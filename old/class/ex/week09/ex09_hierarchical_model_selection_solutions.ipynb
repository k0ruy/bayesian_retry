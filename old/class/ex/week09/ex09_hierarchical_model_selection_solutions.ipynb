{
 "cells": [
  {
   "cell_type": "code",
   "execution_count": 1,
   "metadata": {
    "pycharm": {
     "name": "#%%\n"
    }
   },
   "outputs": [],
   "source": [
    "import numpy as np\n",
    "import scipy\n",
    "import scipy.stats as stats\n",
    "import matplotlib.pyplot as plt\n",
    "import seaborn as sns\n",
    "import pymc3 as pm\n",
    "import arviz as az\n",
    "import pandas as pd\n",
    "#import plotly.express as px"
   ]
  },
  {
   "cell_type": "code",
   "execution_count": 2,
   "metadata": {
    "pycharm": {
     "name": "#%%\n"
    }
   },
   "outputs": [],
   "source": [
    "sns.set()"
   ]
  },
  {
   "cell_type": "markdown",
   "metadata": {
    "pycharm": {
     "name": "#%% md\n"
    }
   },
   "source": [
    "## Factory data\n",
    "\n",
    "The following dataset contains quality control measurements from 6\n",
    "machines in a factory (range: 0-120, units of the measurements are irrelevant here). \n",
    "\n",
    "In the dataset, each column contains the measurements for a single machine. Quality control measurements are expensive and time-consuming, so only 5 measurements were done for each machine. \n",
    "\n",
    "In addition to the existing machines, we are interested in the quality of another machine (the seventh machine) which is not in the dataset."
   ]
  },
  {
   "cell_type": "code",
   "execution_count": 3,
   "metadata": {
    "pycharm": {
     "name": "#%%\n"
    },
    "scrolled": true
   },
   "outputs": [
    {
     "data": {
      "text/html": [
       "<div>\n",
       "<style scoped>\n",
       "    .dataframe tbody tr th:only-of-type {\n",
       "        vertical-align: middle;\n",
       "    }\n",
       "\n",
       "    .dataframe tbody tr th {\n",
       "        vertical-align: top;\n",
       "    }\n",
       "\n",
       "    .dataframe thead th {\n",
       "        text-align: right;\n",
       "    }\n",
       "</style>\n",
       "<table border=\"1\" class=\"dataframe\">\n",
       "  <thead>\n",
       "    <tr style=\"text-align: right;\">\n",
       "      <th>machine</th>\n",
       "      <th>M1</th>\n",
       "      <th>M2</th>\n",
       "      <th>M3</th>\n",
       "      <th>M4</th>\n",
       "      <th>M5</th>\n",
       "      <th>M6</th>\n",
       "    </tr>\n",
       "    <tr>\n",
       "      <th>measurement</th>\n",
       "      <th></th>\n",
       "      <th></th>\n",
       "      <th></th>\n",
       "      <th></th>\n",
       "      <th></th>\n",
       "      <th></th>\n",
       "    </tr>\n",
       "  </thead>\n",
       "  <tbody>\n",
       "    <tr>\n",
       "      <th>0</th>\n",
       "      <td>83.0</td>\n",
       "      <td>117.0</td>\n",
       "      <td>101.0</td>\n",
       "      <td>105.0</td>\n",
       "      <td>79.0</td>\n",
       "      <td>57.0</td>\n",
       "    </tr>\n",
       "    <tr>\n",
       "      <th>1</th>\n",
       "      <td>92.0</td>\n",
       "      <td>109.0</td>\n",
       "      <td>93.0</td>\n",
       "      <td>119.0</td>\n",
       "      <td>97.0</td>\n",
       "      <td>92.0</td>\n",
       "    </tr>\n",
       "    <tr>\n",
       "      <th>2</th>\n",
       "      <td>92.0</td>\n",
       "      <td>114.0</td>\n",
       "      <td>92.0</td>\n",
       "      <td>116.0</td>\n",
       "      <td>103.0</td>\n",
       "      <td>104.0</td>\n",
       "    </tr>\n",
       "    <tr>\n",
       "      <th>3</th>\n",
       "      <td>46.0</td>\n",
       "      <td>104.0</td>\n",
       "      <td>86.0</td>\n",
       "      <td>102.0</td>\n",
       "      <td>79.0</td>\n",
       "      <td>77.0</td>\n",
       "    </tr>\n",
       "    <tr>\n",
       "      <th>4</th>\n",
       "      <td>67.0</td>\n",
       "      <td>87.0</td>\n",
       "      <td>67.0</td>\n",
       "      <td>116.0</td>\n",
       "      <td>92.0</td>\n",
       "      <td>100.0</td>\n",
       "    </tr>\n",
       "  </tbody>\n",
       "</table>\n",
       "</div>"
      ],
      "text/plain": [
       "machine        M1     M2     M3     M4     M5     M6\n",
       "measurement                                         \n",
       "0            83.0  117.0  101.0  105.0   79.0   57.0\n",
       "1            92.0  109.0   93.0  119.0   97.0   92.0\n",
       "2            92.0  114.0   92.0  116.0  103.0  104.0\n",
       "3            46.0  104.0   86.0  102.0   79.0   77.0\n",
       "4            67.0   87.0   67.0  116.0   92.0  100.0"
      ]
     },
     "execution_count": 3,
     "metadata": {},
     "output_type": "execute_result"
    }
   ],
   "source": [
    "df_wide = pd.read_csv(\"factory.csv\")\n",
    "df_wide.set_index(\"measurement\", inplace=True)\n",
    "df_wide.columns.name = \"machine\"\n",
    "df_wide"
   ]
  },
  {
   "cell_type": "markdown",
   "metadata": {},
   "source": [
    "* Transform the dataset to the long format: one row per machine per measurement"
   ]
  },
  {
   "cell_type": "markdown",
   "metadata": {
    "pycharm": {
     "name": "#%% md\n"
    }
   },
   "source": [
    "A \"long\" format is more convenient for the following analyises. Let us *melt* the dataframe!"
   ]
  },
  {
   "cell_type": "code",
   "execution_count": 4,
   "metadata": {
    "pycharm": {
     "name": "#%%\n"
    }
   },
   "outputs": [],
   "source": [
    "df = pd.melt(df_wide.reset_index(),\n",
    "             id_vars=[\"measurement\"],\n",
    "             value_vars=['M1', 'M2', 'M3', 'M4', 'M5', 'M6'],\n",
    "             value_name='quality')\n",
    "df[\"machine\"] = df[\"machine\"].astype(\"category\") # useful for group analysis (with pymc3)"
   ]
  },
  {
   "cell_type": "code",
   "execution_count": 5,
   "metadata": {},
   "outputs": [
    {
     "data": {
      "text/html": [
       "<div>\n",
       "<style scoped>\n",
       "    .dataframe tbody tr th:only-of-type {\n",
       "        vertical-align: middle;\n",
       "    }\n",
       "\n",
       "    .dataframe tbody tr th {\n",
       "        vertical-align: top;\n",
       "    }\n",
       "\n",
       "    .dataframe thead th {\n",
       "        text-align: right;\n",
       "    }\n",
       "</style>\n",
       "<table border=\"1\" class=\"dataframe\">\n",
       "  <thead>\n",
       "    <tr style=\"text-align: right;\">\n",
       "      <th></th>\n",
       "      <th>measurement</th>\n",
       "      <th>machine</th>\n",
       "      <th>quality</th>\n",
       "    </tr>\n",
       "  </thead>\n",
       "  <tbody>\n",
       "    <tr>\n",
       "      <th>0</th>\n",
       "      <td>0</td>\n",
       "      <td>M1</td>\n",
       "      <td>83.0</td>\n",
       "    </tr>\n",
       "    <tr>\n",
       "      <th>1</th>\n",
       "      <td>1</td>\n",
       "      <td>M1</td>\n",
       "      <td>92.0</td>\n",
       "    </tr>\n",
       "    <tr>\n",
       "      <th>2</th>\n",
       "      <td>2</td>\n",
       "      <td>M1</td>\n",
       "      <td>92.0</td>\n",
       "    </tr>\n",
       "    <tr>\n",
       "      <th>3</th>\n",
       "      <td>3</td>\n",
       "      <td>M1</td>\n",
       "      <td>46.0</td>\n",
       "    </tr>\n",
       "    <tr>\n",
       "      <th>4</th>\n",
       "      <td>4</td>\n",
       "      <td>M1</td>\n",
       "      <td>67.0</td>\n",
       "    </tr>\n",
       "    <tr>\n",
       "      <th>5</th>\n",
       "      <td>0</td>\n",
       "      <td>M2</td>\n",
       "      <td>117.0</td>\n",
       "    </tr>\n",
       "  </tbody>\n",
       "</table>\n",
       "</div>"
      ],
      "text/plain": [
       "   measurement machine  quality\n",
       "0            0      M1     83.0\n",
       "1            1      M1     92.0\n",
       "2            2      M1     92.0\n",
       "3            3      M1     46.0\n",
       "4            4      M1     67.0\n",
       "5            0      M2    117.0"
      ]
     },
     "execution_count": 5,
     "metadata": {},
     "output_type": "execute_result"
    }
   ],
   "source": [
    "df.head(6)"
   ]
  },
  {
   "cell_type": "markdown",
   "metadata": {},
   "source": [
    "Note: the category column has the useful properies `cat.categories` (all the possible values of the categorical variable) and `cat.codes` (an equivalent integer representation of the variable)"
   ]
  },
  {
   "cell_type": "code",
   "execution_count": 6,
   "metadata": {},
   "outputs": [
    {
     "data": {
      "text/plain": [
       "Index(['M1', 'M2', 'M3', 'M4', 'M5', 'M6'], dtype='object')"
      ]
     },
     "execution_count": 6,
     "metadata": {},
     "output_type": "execute_result"
    }
   ],
   "source": [
    "df[\"machine\"].cat.categories"
   ]
  },
  {
   "cell_type": "code",
   "execution_count": 7,
   "metadata": {
    "scrolled": true
   },
   "outputs": [
    {
     "data": {
      "text/plain": [
       "0    0\n",
       "1    0\n",
       "2    0\n",
       "3    0\n",
       "4    0\n",
       "5    1\n",
       "dtype: int8"
      ]
     },
     "execution_count": 7,
     "metadata": {},
     "output_type": "execute_result"
    }
   ],
   "source": [
    "df[\"machine\"].cat.codes.head(6)"
   ]
  },
  {
   "cell_type": "markdown",
   "metadata": {
    "pycharm": {
     "name": "#%% md\n"
    }
   },
   "source": [
    "## Some traditional data analysis (data-challenge style)"
   ]
  },
  {
   "cell_type": "markdown",
   "metadata": {
    "pycharm": {
     "name": "#%% md\n"
    }
   },
   "source": [
    "* Obtain the global mean and standard deviation of the quality measurement (pooled mean/standard deviation)"
   ]
  },
  {
   "cell_type": "code",
   "execution_count": 8,
   "metadata": {
    "pycharm": {
     "name": "#%%\n"
    }
   },
   "outputs": [
    {
     "data": {
      "text/plain": [
       "(92.93333333333334, 18.001787906096773)"
      ]
     },
     "execution_count": 8,
     "metadata": {},
     "output_type": "execute_result"
    }
   ],
   "source": [
    "df[\"quality\"].mean(), df[\"quality\"].std()"
   ]
  },
  {
   "cell_type": "markdown",
   "metadata": {
    "pycharm": {
     "name": "#%% md\n"
    }
   },
   "source": [
    "* Plot a histogram and a boxplot of the quality measurement"
   ]
  },
  {
   "cell_type": "code",
   "execution_count": 9,
   "metadata": {
    "pycharm": {
     "name": "#%%\n"
    }
   },
   "outputs": [
    {
     "data": {
      "image/png": "[encoded data removed]",
      "text/plain": [
       "<Figure size 640x480 with 1 Axes>"
      ]
     },
     "metadata": {},
     "output_type": "display_data"
    }
   ],
   "source": [
    "sns.histplot(df[\"quality\"]);\n",
    "#px.histogram(df[\"quality\"]);"
   ]
  },
  {
   "cell_type": "code",
   "execution_count": 10,
   "metadata": {},
   "outputs": [
    {
     "data": {
      "image/png": "[encoded data removed]",
      "text/plain": [
       "<Figure size 640x480 with 1 Axes>"
      ]
     },
     "metadata": {},
     "output_type": "display_data"
    }
   ],
   "source": [
    "sns.boxplot(df[\"quality\"]);"
   ]
  },
  {
   "cell_type": "markdown",
   "metadata": {
    "pycharm": {
     "name": "#%% md\n"
    }
   },
   "source": [
    "* Obtain the mean and standard deviation of quality measurement, for the different machines (unpooled mean/standard deviation)"
   ]
  },
  {
   "cell_type": "code",
   "execution_count": 11,
   "metadata": {
    "pycharm": {
     "name": "#%%\n"
    }
   },
   "outputs": [
    {
     "data": {
      "text/html": [
       "<div>\n",
       "<style scoped>\n",
       "    .dataframe tbody tr th:only-of-type {\n",
       "        vertical-align: middle;\n",
       "    }\n",
       "\n",
       "    .dataframe tbody tr th {\n",
       "        vertical-align: top;\n",
       "    }\n",
       "\n",
       "    .dataframe thead tr th {\n",
       "        text-align: left;\n",
       "    }\n",
       "\n",
       "    .dataframe thead tr:last-of-type th {\n",
       "        text-align: right;\n",
       "    }\n",
       "</style>\n",
       "<table border=\"1\" class=\"dataframe\">\n",
       "  <thead>\n",
       "    <tr>\n",
       "      <th></th>\n",
       "      <th colspan=\"2\" halign=\"left\">quality</th>\n",
       "    </tr>\n",
       "    <tr>\n",
       "      <th></th>\n",
       "      <th>mean</th>\n",
       "      <th>std</th>\n",
       "    </tr>\n",
       "    <tr>\n",
       "      <th>machine</th>\n",
       "      <th></th>\n",
       "      <th></th>\n",
       "    </tr>\n",
       "  </thead>\n",
       "  <tbody>\n",
       "    <tr>\n",
       "      <th>M1</th>\n",
       "      <td>76.0</td>\n",
       "      <td>19.634154</td>\n",
       "    </tr>\n",
       "    <tr>\n",
       "      <th>M2</th>\n",
       "      <td>106.2</td>\n",
       "      <td>11.819475</td>\n",
       "    </tr>\n",
       "    <tr>\n",
       "      <th>M3</th>\n",
       "      <td>87.8</td>\n",
       "      <td>12.794530</td>\n",
       "    </tr>\n",
       "    <tr>\n",
       "      <th>M4</th>\n",
       "      <td>111.6</td>\n",
       "      <td>7.569676</td>\n",
       "    </tr>\n",
       "    <tr>\n",
       "      <th>M5</th>\n",
       "      <td>90.0</td>\n",
       "      <td>10.770330</td>\n",
       "    </tr>\n",
       "    <tr>\n",
       "      <th>M6</th>\n",
       "      <td>86.0</td>\n",
       "      <td>19.222383</td>\n",
       "    </tr>\n",
       "  </tbody>\n",
       "</table>\n",
       "</div>"
      ],
      "text/plain": [
       "        quality           \n",
       "           mean        std\n",
       "machine                   \n",
       "M1         76.0  19.634154\n",
       "M2        106.2  11.819475\n",
       "M3         87.8  12.794530\n",
       "M4        111.6   7.569676\n",
       "M5         90.0  10.770330\n",
       "M6         86.0  19.222383"
      ]
     },
     "execution_count": 11,
     "metadata": {},
     "output_type": "execute_result"
    }
   ],
   "source": [
    "df.groupby(\"machine\")[[\"quality\"]].agg([\"mean\", \"std\"])"
   ]
  },
  {
   "cell_type": "markdown",
   "metadata": {
    "pycharm": {
     "name": "#%% md\n"
    }
   },
   "source": [
    "* Draw boxplots of quality for the different factories"
   ]
  },
  {
   "cell_type": "code",
   "execution_count": 12,
   "metadata": {
    "pycharm": {
     "name": "#%%\n"
    }
   },
   "outputs": [
    {
     "data": {
      "image/png": "[encoded data removed]",
      "text/plain": [
       "<Figure size 640x480 with 1 Axes>"
      ]
     },
     "metadata": {},
     "output_type": "display_data"
    }
   ],
   "source": [
    "sns.boxplot(data=df, x=\"quality\", y=\"machine\");\n",
    "#px.box(df, x=\"quality\", y=\"machine\")"
   ]
  },
  {
   "cell_type": "markdown",
   "metadata": {
    "pycharm": {
     "name": "#%% md\n"
    }
   },
   "source": [
    "Even from a classical analysis, there seems to be evidence that different machines have different quality."
   ]
  },
  {
   "cell_type": "markdown",
   "metadata": {
    "pycharm": {
     "name": "#%% md\n"
    }
   },
   "source": [
    "## Pooled Bayesian Model\n",
    "\n",
    "Consider the following *pooled* Bayesian model:\n",
    "\\begin{align*}\n",
    "\\mu &\\sim N(90, 10) \\\\\n",
    "\\sigma &\\sim \\text{HalfNormal}(36) \\\\\n",
    "\\vec{y}_{ij} &\\sim N(\\mu, \\sigma) \\\\\n",
    "\\end{align*}\n"
   ]
  },
  {
   "cell_type": "markdown",
   "metadata": {},
   "source": [
    "* Discuss the pooled model and its underlying hypotheses "
   ]
  },
  {
   "cell_type": "markdown",
   "metadata": {},
   "source": [
    "The model does not make distinction between different machines. It is a single normal-normal model for measurements from all the different machines; it assumes the measurement to share *global* mean and standard deviation $\\mu$ and $\\sigma$, respectively. \n",
    "\n",
    "It could have been constructed assuming that: \n",
    "1. The (global) mean quality $\\mu$ is between $90-3*10=60$ and $90+3*10=120$ with probability 99%\n",
    "2. All quality measurements $\\vec{y}_{ij}$ is in a range of width $25*6=150$ with probability 99%\n"
   ]
  },
  {
   "cell_type": "code",
   "execution_count": 13,
   "metadata": {
    "pycharm": {
     "name": "#%%\n"
    }
   },
   "outputs": [
    {
     "data": {
      "text/plain": [
       "0    24.055297\n",
       "dtype: float64"
      ]
     },
     "execution_count": 13,
     "metadata": {},
     "output_type": "execute_result"
    }
   ],
   "source": [
    "pd.DataFrame(stats.halfnorm.rvs(size=10_000, scale=36)).median()"
   ]
  },
  {
   "cell_type": "markdown",
   "metadata": {},
   "source": [
    "* Implement the pooled model in pymc3"
   ]
  },
  {
   "cell_type": "code",
   "execution_count": 14,
   "metadata": {
    "pycharm": {
     "name": "#%%\n"
    }
   },
   "outputs": [
    {
     "name": "stderr",
     "output_type": "stream",
     "text": [
      "Auto-assigning NUTS sampler...\n",
      "Initializing NUTS using jitter+adapt_diag...\n",
      "Multiprocess sampling (2 chains in 2 jobs)\n",
      "NUTS: [global_sigma, global_mu]\n"
     ]
    },
    {
     "data": {
      "text/html": [
       "\n",
       "    <div>\n",
       "        <style>\n",
       "            /* Turns off some styling */\n",
       "            progress {\n",
       "                /* gets rid of default border in Firefox and Opera. */\n",
       "                border: none;\n",
       "                /* Needs to be in here for Safari polyfill so background images work as expected. */\n",
       "                background-size: auto;\n",
       "            }\n",
       "            .progress-bar-interrupted, .progress-bar-interrupted::-webkit-progress-bar {\n",
       "                background: #F44336;\n",
       "            }\n",
       "        </style>\n",
       "      <progress value='22000' class='' max='22000' style='width:300px; height:20px; vertical-align: middle;'></progress>\n",
       "      100.00% [22000/22000 00:10<00:00 Sampling 2 chains, 0 divergences]\n",
       "    </div>\n",
       "    "
      ],
      "text/plain": [
       "<IPython.core.display.HTML object>"
      ]
     },
     "metadata": {},
     "output_type": "display_data"
    },
    {
     "name": "stderr",
     "output_type": "stream",
     "text": [
      "Sampling 2 chains for 1_000 tune and 10_000 draw iterations (2_000 + 20_000 draws total) took 10 seconds.\n"
     ]
    }
   ],
   "source": [
    "with pm.Model() as model_pooled:\n",
    "    global_mu = pm.Normal('global_mu', mu=90, sd=15)\n",
    "    global_sigma = pm.HalfNormal('global_sigma', sd=30)\n",
    "    y = pm.Normal('y', mu=global_mu, sd=global_sigma, observed=df[\"quality\"])\n",
    "    trace_pooled = pm.sample(10_000, return_inferencedata=True)"
   ]
  },
  {
   "cell_type": "code",
   "execution_count": 15,
   "metadata": {},
   "outputs": [
    {
     "data": {
      "image/svg+xml": [
       "<?xml version=\"1.0\" encoding=\"UTF-8\" standalone=\"no\"?>\n",
       "<!DOCTYPE svg PUBLIC \"-//W3C//DTD SVG 1.1//EN\"\n",
       " \"http://www.w3.org/Graphics/SVG/1.1/DTD/svg11.dtd\">\n",
       "<!-- Generated by graphviz version 2.40.1 (20161225.0304)\n",
       " -->\n",
       "<!-- Title: %3 Pages: 1 -->\n",
       "<svg width=\"260pt\" height=\"233pt\"\n",
       " viewBox=\"0.00 0.00 259.67 232.91\" xmlns=\"http://www.w3.org/2000/svg\" xmlns:xlink=\"http://www.w3.org/1999/xlink\">\n",
       "<g id=\"graph0\" class=\"graph\" transform=\"scale(1 1) rotate(0) translate(4 228.9066)\">\n",
       "<title>%3</title>\n",
       "<polygon fill=\"#ffffff\" stroke=\"transparent\" points=\"-4,4 -4,-228.9066 255.6726,-228.9066 255.6726,4 -4,4\"/>\n",
       "<g id=\"clust1\" class=\"cluster\">\n",
       "<title>cluster30</title>\n",
       "<path fill=\"none\" stroke=\"#000000\" d=\"M82.033,-8C82.033,-8 158.033,-8 158.033,-8 164.033,-8 170.033,-14 170.033,-20 170.033,-20 170.033,-109.9533 170.033,-109.9533 170.033,-115.9533 164.033,-121.9533 158.033,-121.9533 158.033,-121.9533 82.033,-121.9533 82.033,-121.9533 76.033,-121.9533 70.033,-115.9533 70.033,-109.9533 70.033,-109.9533 70.033,-20 70.033,-20 70.033,-14 76.033,-8 82.033,-8\"/>\n",
       "<text text-anchor=\"middle\" x=\"155.033\" y=\"-15.8\" font-family=\"Times,serif\" font-size=\"14.00\" fill=\"#000000\">30</text>\n",
       "</g>\n",
       "<!-- global_mu -->\n",
       "<g id=\"node1\" class=\"node\">\n",
       "<title>global_mu</title>\n",
       "<ellipse fill=\"none\" stroke=\"#000000\" cx=\"53.033\" cy=\"-187.43\" rx=\"53.066\" ry=\"37.4533\"/>\n",
       "<text text-anchor=\"middle\" x=\"53.033\" y=\"-198.73\" font-family=\"Times,serif\" font-size=\"14.00\" fill=\"#000000\">global_mu</text>\n",
       "<text text-anchor=\"middle\" x=\"53.033\" y=\"-183.73\" font-family=\"Times,serif\" font-size=\"14.00\" fill=\"#000000\">~</text>\n",
       "<text text-anchor=\"middle\" x=\"53.033\" y=\"-168.73\" font-family=\"Times,serif\" font-size=\"14.00\" fill=\"#000000\">Normal</text>\n",
       "</g>\n",
       "<!-- y -->\n",
       "<g id=\"node3\" class=\"node\">\n",
       "<title>y</title>\n",
       "<ellipse fill=\"#d3d3d3\" stroke=\"#000000\" cx=\"120.033\" cy=\"-76.4767\" rx=\"41.9398\" ry=\"37.4533\"/>\n",
       "<text text-anchor=\"middle\" x=\"120.033\" y=\"-87.7767\" font-family=\"Times,serif\" font-size=\"14.00\" fill=\"#000000\">y</text>\n",
       "<text text-anchor=\"middle\" x=\"120.033\" y=\"-72.7767\" font-family=\"Times,serif\" font-size=\"14.00\" fill=\"#000000\">~</text>\n",
       "<text text-anchor=\"middle\" x=\"120.033\" y=\"-57.7767\" font-family=\"Times,serif\" font-size=\"14.00\" fill=\"#000000\">Normal</text>\n",
       "</g>\n",
       "<!-- global_mu&#45;&gt;y -->\n",
       "<g id=\"edge1\" class=\"edge\">\n",
       "<title>global_mu&#45;&gt;y</title>\n",
       "<path fill=\"none\" stroke=\"#000000\" d=\"M73.865,-152.9319C80.5382,-141.8808 87.998,-129.5273 94.9423,-118.0274\"/>\n",
       "<polygon fill=\"#000000\" stroke=\"#000000\" points=\"97.9575,-119.805 100.1306,-109.4354 91.9652,-116.1865 97.9575,-119.805\"/>\n",
       "</g>\n",
       "<!-- global_sigma -->\n",
       "<g id=\"node2\" class=\"node\">\n",
       "<title>global_sigma</title>\n",
       "<ellipse fill=\"none\" stroke=\"#000000\" cx=\"188.033\" cy=\"-187.43\" rx=\"63.7795\" ry=\"37.4533\"/>\n",
       "<text text-anchor=\"middle\" x=\"188.033\" y=\"-198.73\" font-family=\"Times,serif\" font-size=\"14.00\" fill=\"#000000\">global_sigma</text>\n",
       "<text text-anchor=\"middle\" x=\"188.033\" y=\"-183.73\" font-family=\"Times,serif\" font-size=\"14.00\" fill=\"#000000\">~</text>\n",
       "<text text-anchor=\"middle\" x=\"188.033\" y=\"-168.73\" font-family=\"Times,serif\" font-size=\"14.00\" fill=\"#000000\">HalfNormal</text>\n",
       "</g>\n",
       "<!-- global_sigma&#45;&gt;y -->\n",
       "<g id=\"edge2\" class=\"edge\">\n",
       "<title>global_sigma&#45;&gt;y</title>\n",
       "<path fill=\"none\" stroke=\"#000000\" d=\"M166.3304,-152.0186C159.7671,-141.3095 152.4972,-129.4474 145.7007,-118.3578\"/>\n",
       "<polygon fill=\"#000000\" stroke=\"#000000\" points=\"148.5837,-116.3637 140.3741,-109.6665 142.6154,-120.0216 148.5837,-116.3637\"/>\n",
       "</g>\n",
       "</g>\n",
       "</svg>\n"
      ],
      "text/plain": [
       "<graphviz.graphs.Digraph at 0x7f0b00a8f2b0>"
      ]
     },
     "execution_count": 15,
     "metadata": {},
     "output_type": "execute_result"
    }
   ],
   "source": [
    "pm.model_to_graphviz(model_pooled)"
   ]
  },
  {
   "cell_type": "code",
   "execution_count": 16,
   "metadata": {
    "pycharm": {
     "name": "#%%\n"
    }
   },
   "outputs": [
    {
     "data": {
      "text/html": [
       "<div>\n",
       "<style scoped>\n",
       "    .dataframe tbody tr th:only-of-type {\n",
       "        vertical-align: middle;\n",
       "    }\n",
       "\n",
       "    .dataframe tbody tr th {\n",
       "        vertical-align: top;\n",
       "    }\n",
       "\n",
       "    .dataframe thead th {\n",
       "        text-align: right;\n",
       "    }\n",
       "</style>\n",
       "<table border=\"1\" class=\"dataframe\">\n",
       "  <thead>\n",
       "    <tr style=\"text-align: right;\">\n",
       "      <th></th>\n",
       "      <th>mean</th>\n",
       "      <th>sd</th>\n",
       "      <th>hdi_3%</th>\n",
       "      <th>hdi_97%</th>\n",
       "      <th>mcse_mean</th>\n",
       "      <th>mcse_sd</th>\n",
       "      <th>ess_bulk</th>\n",
       "      <th>ess_tail</th>\n",
       "      <th>r_hat</th>\n",
       "    </tr>\n",
       "  </thead>\n",
       "  <tbody>\n",
       "    <tr>\n",
       "      <th>global_mu</th>\n",
       "      <td>92.802</td>\n",
       "      <td>3.397</td>\n",
       "      <td>86.656</td>\n",
       "      <td>99.408</td>\n",
       "      <td>0.027</td>\n",
       "      <td>0.019</td>\n",
       "      <td>15478.0</td>\n",
       "      <td>13022.0</td>\n",
       "      <td>1.0</td>\n",
       "    </tr>\n",
       "    <tr>\n",
       "      <th>global_sigma</th>\n",
       "      <td>18.704</td>\n",
       "      <td>2.579</td>\n",
       "      <td>14.229</td>\n",
       "      <td>23.498</td>\n",
       "      <td>0.022</td>\n",
       "      <td>0.016</td>\n",
       "      <td>14183.0</td>\n",
       "      <td>11402.0</td>\n",
       "      <td>1.0</td>\n",
       "    </tr>\n",
       "  </tbody>\n",
       "</table>\n",
       "</div>"
      ],
      "text/plain": [
       "                mean     sd  hdi_3%  hdi_97%  mcse_mean  mcse_sd  ess_bulk  \\\n",
       "global_mu     92.802  3.397  86.656   99.408      0.027    0.019   15478.0   \n",
       "global_sigma  18.704  2.579  14.229   23.498      0.022    0.016   14183.0   \n",
       "\n",
       "              ess_tail  r_hat  \n",
       "global_mu      13022.0    1.0  \n",
       "global_sigma   11402.0    1.0  "
      ]
     },
     "metadata": {},
     "output_type": "display_data"
    }
   ],
   "source": [
    "with model_pooled:\n",
    "    display(az.summary(trace_pooled))"
   ]
  },
  {
   "cell_type": "code",
   "execution_count": 17,
   "metadata": {
    "pycharm": {
     "name": "#%%\n"
    }
   },
   "outputs": [
    {
     "data": {
      "image/png": "[encoded data removed]",
      "text/plain": [
       "<Figure size 1472x552 with 2 Axes>"
      ]
     },
     "metadata": {},
     "output_type": "display_data"
    }
   ],
   "source": [
    "with model_pooled:\n",
    "    az.plot_posterior(trace_pooled);"
   ]
  },
  {
   "cell_type": "markdown",
   "metadata": {
    "pycharm": {
     "name": "#%% md\n"
    }
   },
   "source": [
    "## Unpooled Bayesian Model\n",
    "\n",
    "Consider the following Bayesian unpooled model\n",
    "\\begin{align*}\n",
    "\\mu_{j} &\\sim {N}(90, 20) \\\\\n",
    "\\sigma_{j} &\\sim \\text{HalfNormal}(23) \\\\\n",
    "\\vec{y}_{ij} &\\sim {N}(\\mu_j, \\sigma_j) \\\\\n",
    "\\end{align*}"
   ]
  },
  {
   "cell_type": "markdown",
   "metadata": {},
   "source": [
    "* Discuss the unpooled model and its underlying hypotheses "
   ]
  },
  {
   "cell_type": "markdown",
   "metadata": {},
   "source": [
    "The unpooled model actually consists in 6 completely separate normal-normal sub-models for the 6 different machines. \n",
    "It could have build according to the hipotheses that: \n",
    "1. The mean quality of each machine is between $90-3*20=30$ and $90+3*20=150$ with probability 99%\n",
    "2. The quality measurements of each machine are in a range of width $15*6=90$ with probability 99%"
   ]
  },
  {
   "cell_type": "code",
   "execution_count": 18,
   "metadata": {},
   "outputs": [
    {
     "data": {
      "text/plain": [
       "0    15.364175\n",
       "dtype: float64"
      ]
     },
     "execution_count": 18,
     "metadata": {},
     "output_type": "execute_result"
    }
   ],
   "source": [
    "pd.DataFrame(stats.halfnorm.rvs(size=10_000, scale=23)).median()"
   ]
  },
  {
   "cell_type": "markdown",
   "metadata": {},
   "source": [
    "* Implement the unpooled model in pymc3"
   ]
  },
  {
   "cell_type": "code",
   "execution_count": 19,
   "metadata": {
    "pycharm": {
     "name": "#%%\n"
    }
   },
   "outputs": [
    {
     "data": {
      "text/plain": [
       "(['M1', 'M2', 'M3', 'M4', 'M5', 'M6'], 6)"
      ]
     },
     "execution_count": 19,
     "metadata": {},
     "output_type": "execute_result"
    }
   ],
   "source": [
    "df[\"machine_id\"] = df[\"machine\"].cat.codes\n",
    "machines = list(df[\"machine\"].cat.categories)\n",
    "n_machines = len(machines) # number of machines (6)\n",
    "machines, n_machines"
   ]
  },
  {
   "cell_type": "code",
   "execution_count": 20,
   "metadata": {
    "pycharm": {
     "name": "#%%\n"
    }
   },
   "outputs": [
    {
     "name": "stderr",
     "output_type": "stream",
     "text": [
      "Auto-assigning NUTS sampler...\n",
      "Initializing NUTS using jitter+adapt_diag...\n",
      "Multiprocess sampling (2 chains in 2 jobs)\n",
      "NUTS: [group_sigma, group_mu]\n"
     ]
    },
    {
     "data": {
      "text/html": [
       "\n",
       "    <div>\n",
       "        <style>\n",
       "            /* Turns off some styling */\n",
       "            progress {\n",
       "                /* gets rid of default border in Firefox and Opera. */\n",
       "                border: none;\n",
       "                /* Needs to be in here for Safari polyfill so background images work as expected. */\n",
       "                background-size: auto;\n",
       "            }\n",
       "            .progress-bar-interrupted, .progress-bar-interrupted::-webkit-progress-bar {\n",
       "                background: #F44336;\n",
       "            }\n",
       "        </style>\n",
       "      <progress value='22000' class='' max='22000' style='width:300px; height:20px; vertical-align: middle;'></progress>\n",
       "      100.00% [22000/22000 00:13<00:00 Sampling 2 chains, 1 divergences]\n",
       "    </div>\n",
       "    "
      ],
      "text/plain": [
       "<IPython.core.display.HTML object>"
      ]
     },
     "metadata": {},
     "output_type": "display_data"
    },
    {
     "name": "stderr",
     "output_type": "stream",
     "text": [
      "Sampling 2 chains for 1_000 tune and 10_000 draw iterations (2_000 + 20_000 draws total) took 14 seconds.\n",
      "There was 1 divergence after tuning. Increase `target_accept` or reparameterize.\n"
     ]
    }
   ],
   "source": [
    "with pm.Model() as model_unpooled:\n",
    "    group_mu = pm.Normal('group_mu', mu=90, sd=20, shape=n_machines)\n",
    "    group_sigma = pm.HalfNormal('group_sigma', sd=23, shape=n_machines)\n",
    "    #y = pm.Normal('y', mu=group_mu[df[\"machine_id\"]], sd=group_sigma[df[\"machine_id\"]], observed=df[\"quality\"])\n",
    "    y = pm.Normal('y', mu=group_mu[df[\"machine\"].cat.codes],\n",
    "                  sd=group_sigma[df[\"machine\"].cat.codes],\n",
    "                  observed=df[\"quality\"])\n",
    "    trace_unpooled = pm.sample(10_000, return_inferencedata=True)\n"
   ]
  },
  {
   "cell_type": "code",
   "execution_count": 21,
   "metadata": {
    "pycharm": {
     "name": "#%%\n"
    }
   },
   "outputs": [
    {
     "data": {
      "image/svg+xml": [
       "<?xml version=\"1.0\" encoding=\"UTF-8\" standalone=\"no\"?>\n",
       "<!DOCTYPE svg PUBLIC \"-//W3C//DTD SVG 1.1//EN\"\n",
       " \"http://www.w3.org/Graphics/SVG/1.1/DTD/svg11.dtd\">\n",
       "<!-- Generated by graphviz version 2.40.1 (20161225.0304)\n",
       " -->\n",
       "<!-- Title: %3 Pages: 1 -->\n",
       "<svg width=\"286pt\" height=\"260pt\"\n",
       " viewBox=\"0.00 0.00 286.00 259.91\" xmlns=\"http://www.w3.org/2000/svg\" xmlns:xlink=\"http://www.w3.org/1999/xlink\">\n",
       "<g id=\"graph0\" class=\"graph\" transform=\"scale(1 1) rotate(0) translate(4 255.9066)\">\n",
       "<title>%3</title>\n",
       "<polygon fill=\"#ffffff\" stroke=\"transparent\" points=\"-4,4 -4,-255.9066 282,-255.9066 282,4 -4,4\"/>\n",
       "<g id=\"clust1\" class=\"cluster\">\n",
       "<title>cluster6</title>\n",
       "<path fill=\"none\" stroke=\"#000000\" d=\"M20,-129.9533C20,-129.9533 258,-129.9533 258,-129.9533 264,-129.9533 270,-135.9533 270,-141.9533 270,-141.9533 270,-231.9066 270,-231.9066 270,-237.9066 264,-243.9066 258,-243.9066 258,-243.9066 20,-243.9066 20,-243.9066 14,-243.9066 8,-237.9066 8,-231.9066 8,-231.9066 8,-141.9533 8,-141.9533 8,-135.9533 14,-129.9533 20,-129.9533\"/>\n",
       "<text text-anchor=\"middle\" x=\"258.5\" y=\"-137.7533\" font-family=\"Times,serif\" font-size=\"14.00\" fill=\"#000000\">6</text>\n",
       "</g>\n",
       "<g id=\"clust2\" class=\"cluster\">\n",
       "<title>cluster30</title>\n",
       "<path fill=\"none\" stroke=\"#000000\" d=\"M96,-8C96,-8 172,-8 172,-8 178,-8 184,-14 184,-20 184,-20 184,-109.9533 184,-109.9533 184,-115.9533 178,-121.9533 172,-121.9533 172,-121.9533 96,-121.9533 96,-121.9533 90,-121.9533 84,-115.9533 84,-109.9533 84,-109.9533 84,-20 84,-20 84,-14 90,-8 96,-8\"/>\n",
       "<text text-anchor=\"middle\" x=\"169\" y=\"-15.8\" font-family=\"Times,serif\" font-size=\"14.00\" fill=\"#000000\">30</text>\n",
       "</g>\n",
       "<!-- group_sigma -->\n",
       "<g id=\"node1\" class=\"node\">\n",
       "<title>group_sigma</title>\n",
       "<ellipse fill=\"none\" stroke=\"#000000\" cx=\"200\" cy=\"-198.43\" rx=\"62.4516\" ry=\"37.4533\"/>\n",
       "<text text-anchor=\"middle\" x=\"200\" y=\"-209.73\" font-family=\"Times,serif\" font-size=\"14.00\" fill=\"#000000\">group_sigma</text>\n",
       "<text text-anchor=\"middle\" x=\"200\" y=\"-194.73\" font-family=\"Times,serif\" font-size=\"14.00\" fill=\"#000000\">~</text>\n",
       "<text text-anchor=\"middle\" x=\"200\" y=\"-179.73\" font-family=\"Times,serif\" font-size=\"14.00\" fill=\"#000000\">HalfNormal</text>\n",
       "</g>\n",
       "<!-- y -->\n",
       "<g id=\"node3\" class=\"node\">\n",
       "<title>y</title>\n",
       "<ellipse fill=\"#d3d3d3\" stroke=\"#000000\" cx=\"134\" cy=\"-76.4767\" rx=\"41.9398\" ry=\"37.4533\"/>\n",
       "<text text-anchor=\"middle\" x=\"134\" y=\"-87.7767\" font-family=\"Times,serif\" font-size=\"14.00\" fill=\"#000000\">y</text>\n",
       "<text text-anchor=\"middle\" x=\"134\" y=\"-72.7767\" font-family=\"Times,serif\" font-size=\"14.00\" fill=\"#000000\">~</text>\n",
       "<text text-anchor=\"middle\" x=\"134\" y=\"-57.7767\" font-family=\"Times,serif\" font-size=\"14.00\" fill=\"#000000\">Normal</text>\n",
       "</g>\n",
       "<!-- group_sigma&#45;&gt;y -->\n",
       "<g id=\"edge1\" class=\"edge\">\n",
       "<title>group_sigma&#45;&gt;y</title>\n",
       "<path fill=\"none\" stroke=\"#000000\" d=\"M180.5548,-162.4996C173.2559,-149.0129 164.8863,-133.5477 157.2747,-119.4831\"/>\n",
       "<polygon fill=\"#000000\" stroke=\"#000000\" points=\"160.2389,-117.6067 152.4011,-110.4778 154.0826,-120.9384 160.2389,-117.6067\"/>\n",
       "</g>\n",
       "<!-- group_mu -->\n",
       "<g id=\"node2\" class=\"node\">\n",
       "<title>group_mu</title>\n",
       "<ellipse fill=\"none\" stroke=\"#000000\" cx=\"68\" cy=\"-198.43\" rx=\"51.7379\" ry=\"37.4533\"/>\n",
       "<text text-anchor=\"middle\" x=\"68\" y=\"-209.73\" font-family=\"Times,serif\" font-size=\"14.00\" fill=\"#000000\">group_mu</text>\n",
       "<text text-anchor=\"middle\" x=\"68\" y=\"-194.73\" font-family=\"Times,serif\" font-size=\"14.00\" fill=\"#000000\">~</text>\n",
       "<text text-anchor=\"middle\" x=\"68\" y=\"-179.73\" font-family=\"Times,serif\" font-size=\"14.00\" fill=\"#000000\">Normal</text>\n",
       "</g>\n",
       "<!-- group_mu&#45;&gt;y -->\n",
       "<g id=\"edge2\" class=\"edge\">\n",
       "<title>group_mu&#45;&gt;y</title>\n",
       "<path fill=\"none\" stroke=\"#000000\" d=\"M86.913,-163.4831C94.2872,-149.857 102.8169,-134.0961 110.5739,-119.7628\"/>\n",
       "<polygon fill=\"#000000\" stroke=\"#000000\" points=\"113.8584,-121.0474 115.5399,-110.5868 107.7021,-117.7156 113.8584,-121.0474\"/>\n",
       "</g>\n",
       "</g>\n",
       "</svg>\n"
      ],
      "text/plain": [
       "<graphviz.graphs.Digraph at 0x7f0af322b700>"
      ]
     },
     "execution_count": 21,
     "metadata": {},
     "output_type": "execute_result"
    }
   ],
   "source": [
    "pm.model_to_graphviz(model_unpooled)"
   ]
  },
  {
   "cell_type": "code",
   "execution_count": 22,
   "metadata": {},
   "outputs": [],
   "source": [
    "trace_unpooled.posterior = trace_unpooled.posterior.assign_coords(group_mu_dim_0=machines,\n",
    "                                                                  group_sigma_dim_0=machines)"
   ]
  },
  {
   "cell_type": "code",
   "execution_count": 23,
   "metadata": {},
   "outputs": [
    {
     "data": {
      "text/html": [
       "<div>\n",
       "<style scoped>\n",
       "    .dataframe tbody tr th:only-of-type {\n",
       "        vertical-align: middle;\n",
       "    }\n",
       "\n",
       "    .dataframe tbody tr th {\n",
       "        vertical-align: top;\n",
       "    }\n",
       "\n",
       "    .dataframe thead th {\n",
       "        text-align: right;\n",
       "    }\n",
       "</style>\n",
       "<table border=\"1\" class=\"dataframe\">\n",
       "  <thead>\n",
       "    <tr style=\"text-align: right;\">\n",
       "      <th></th>\n",
       "      <th>mean</th>\n",
       "      <th>sd</th>\n",
       "      <th>hdi_3%</th>\n",
       "      <th>hdi_97%</th>\n",
       "      <th>mcse_mean</th>\n",
       "      <th>mcse_sd</th>\n",
       "      <th>ess_bulk</th>\n",
       "      <th>ess_tail</th>\n",
       "      <th>r_hat</th>\n",
       "    </tr>\n",
       "  </thead>\n",
       "  <tbody>\n",
       "    <tr>\n",
       "      <th>group_mu[M1]</th>\n",
       "      <td>78.723</td>\n",
       "      <td>8.982</td>\n",
       "      <td>61.711</td>\n",
       "      <td>95.909</td>\n",
       "      <td>0.066</td>\n",
       "      <td>0.048</td>\n",
       "      <td>19452.0</td>\n",
       "      <td>12116.0</td>\n",
       "      <td>1.0</td>\n",
       "    </tr>\n",
       "    <tr>\n",
       "      <th>group_mu[M2]</th>\n",
       "      <td>104.445</td>\n",
       "      <td>6.874</td>\n",
       "      <td>91.209</td>\n",
       "      <td>117.660</td>\n",
       "      <td>0.056</td>\n",
       "      <td>0.039</td>\n",
       "      <td>16733.0</td>\n",
       "      <td>10629.0</td>\n",
       "      <td>1.0</td>\n",
       "    </tr>\n",
       "    <tr>\n",
       "      <th>group_mu[M3]</th>\n",
       "      <td>88.089</td>\n",
       "      <td>6.950</td>\n",
       "      <td>74.651</td>\n",
       "      <td>101.174</td>\n",
       "      <td>0.056</td>\n",
       "      <td>0.039</td>\n",
       "      <td>16765.0</td>\n",
       "      <td>11804.0</td>\n",
       "      <td>1.0</td>\n",
       "    </tr>\n",
       "    <tr>\n",
       "      <th>group_mu[M4]</th>\n",
       "      <td>110.242</td>\n",
       "      <td>5.022</td>\n",
       "      <td>100.341</td>\n",
       "      <td>119.209</td>\n",
       "      <td>0.042</td>\n",
       "      <td>0.030</td>\n",
       "      <td>16469.0</td>\n",
       "      <td>10684.0</td>\n",
       "      <td>1.0</td>\n",
       "    </tr>\n",
       "    <tr>\n",
       "      <th>group_mu[M5]</th>\n",
       "      <td>90.008</td>\n",
       "      <td>6.140</td>\n",
       "      <td>78.337</td>\n",
       "      <td>102.159</td>\n",
       "      <td>0.049</td>\n",
       "      <td>0.035</td>\n",
       "      <td>16945.0</td>\n",
       "      <td>11172.0</td>\n",
       "      <td>1.0</td>\n",
       "    </tr>\n",
       "    <tr>\n",
       "      <th>group_mu[M6]</th>\n",
       "      <td>86.684</td>\n",
       "      <td>8.837</td>\n",
       "      <td>69.758</td>\n",
       "      <td>103.408</td>\n",
       "      <td>0.063</td>\n",
       "      <td>0.045</td>\n",
       "      <td>20257.0</td>\n",
       "      <td>12772.0</td>\n",
       "      <td>1.0</td>\n",
       "    </tr>\n",
       "    <tr>\n",
       "      <th>group_sigma[M1]</th>\n",
       "      <td>22.212</td>\n",
       "      <td>7.375</td>\n",
       "      <td>10.845</td>\n",
       "      <td>36.094</td>\n",
       "      <td>0.054</td>\n",
       "      <td>0.040</td>\n",
       "      <td>22159.0</td>\n",
       "      <td>15384.0</td>\n",
       "      <td>1.0</td>\n",
       "    </tr>\n",
       "    <tr>\n",
       "      <th>group_sigma[M2]</th>\n",
       "      <td>15.283</td>\n",
       "      <td>6.281</td>\n",
       "      <td>6.237</td>\n",
       "      <td>26.532</td>\n",
       "      <td>0.053</td>\n",
       "      <td>0.039</td>\n",
       "      <td>17747.0</td>\n",
       "      <td>13242.0</td>\n",
       "      <td>1.0</td>\n",
       "    </tr>\n",
       "    <tr>\n",
       "      <th>group_sigma[M3]</th>\n",
       "      <td>15.927</td>\n",
       "      <td>6.147</td>\n",
       "      <td>6.984</td>\n",
       "      <td>27.280</td>\n",
       "      <td>0.049</td>\n",
       "      <td>0.036</td>\n",
       "      <td>19382.0</td>\n",
       "      <td>14076.0</td>\n",
       "      <td>1.0</td>\n",
       "    </tr>\n",
       "    <tr>\n",
       "      <th>group_sigma[M4]</th>\n",
       "      <td>10.552</td>\n",
       "      <td>4.976</td>\n",
       "      <td>4.134</td>\n",
       "      <td>19.573</td>\n",
       "      <td>0.044</td>\n",
       "      <td>0.032</td>\n",
       "      <td>16235.0</td>\n",
       "      <td>12777.0</td>\n",
       "      <td>1.0</td>\n",
       "    </tr>\n",
       "    <tr>\n",
       "      <th>group_sigma[M5]</th>\n",
       "      <td>13.969</td>\n",
       "      <td>5.721</td>\n",
       "      <td>5.766</td>\n",
       "      <td>24.399</td>\n",
       "      <td>0.046</td>\n",
       "      <td>0.034</td>\n",
       "      <td>18460.0</td>\n",
       "      <td>14560.0</td>\n",
       "      <td>1.0</td>\n",
       "    </tr>\n",
       "    <tr>\n",
       "      <th>group_sigma[M6]</th>\n",
       "      <td>21.741</td>\n",
       "      <td>7.375</td>\n",
       "      <td>10.506</td>\n",
       "      <td>35.634</td>\n",
       "      <td>0.055</td>\n",
       "      <td>0.043</td>\n",
       "      <td>21461.0</td>\n",
       "      <td>14006.0</td>\n",
       "      <td>1.0</td>\n",
       "    </tr>\n",
       "  </tbody>\n",
       "</table>\n",
       "</div>"
      ],
      "text/plain": [
       "                    mean     sd   hdi_3%  hdi_97%  mcse_mean  mcse_sd  \\\n",
       "group_mu[M1]      78.723  8.982   61.711   95.909      0.066    0.048   \n",
       "group_mu[M2]     104.445  6.874   91.209  117.660      0.056    0.039   \n",
       "group_mu[M3]      88.089  6.950   74.651  101.174      0.056    0.039   \n",
       "group_mu[M4]     110.242  5.022  100.341  119.209      0.042    0.030   \n",
       "group_mu[M5]      90.008  6.140   78.337  102.159      0.049    0.035   \n",
       "group_mu[M6]      86.684  8.837   69.758  103.408      0.063    0.045   \n",
       "group_sigma[M1]   22.212  7.375   10.845   36.094      0.054    0.040   \n",
       "group_sigma[M2]   15.283  6.281    6.237   26.532      0.053    0.039   \n",
       "group_sigma[M3]   15.927  6.147    6.984   27.280      0.049    0.036   \n",
       "group_sigma[M4]   10.552  4.976    4.134   19.573      0.044    0.032   \n",
       "group_sigma[M5]   13.969  5.721    5.766   24.399      0.046    0.034   \n",
       "group_sigma[M6]   21.741  7.375   10.506   35.634      0.055    0.043   \n",
       "\n",
       "                 ess_bulk  ess_tail  r_hat  \n",
       "group_mu[M1]      19452.0   12116.0    1.0  \n",
       "group_mu[M2]      16733.0   10629.0    1.0  \n",
       "group_mu[M3]      16765.0   11804.0    1.0  \n",
       "group_mu[M4]      16469.0   10684.0    1.0  \n",
       "group_mu[M5]      16945.0   11172.0    1.0  \n",
       "group_mu[M6]      20257.0   12772.0    1.0  \n",
       "group_sigma[M1]   22159.0   15384.0    1.0  \n",
       "group_sigma[M2]   17747.0   13242.0    1.0  \n",
       "group_sigma[M3]   19382.0   14076.0    1.0  \n",
       "group_sigma[M4]   16235.0   12777.0    1.0  \n",
       "group_sigma[M5]   18460.0   14560.0    1.0  \n",
       "group_sigma[M6]   21461.0   14006.0    1.0  "
      ]
     },
     "metadata": {},
     "output_type": "display_data"
    }
   ],
   "source": [
    "with model_unpooled:\n",
    "    display(az.summary(trace_unpooled))"
   ]
  },
  {
   "cell_type": "code",
   "execution_count": 24,
   "metadata": {
    "pycharm": {
     "name": "#%%\n"
    }
   },
   "outputs": [
    {
     "data": {
      "image/png": "[encoded data removed]",
      "text/plain": [
       "<Figure size 1200x552 with 1 Axes>"
      ]
     },
     "metadata": {},
     "output_type": "display_data"
    }
   ],
   "source": [
    "with model_unpooled:\n",
    "    axes = az.plot_forest (trace_unpooled,  kind='ridgeplot', hdi_prob=0.95, var_names=\"group_mu\", combined=True);\n",
    "    plt.title(\"Posterior mean for the 6 machines\")"
   ]
  },
  {
   "cell_type": "code",
   "execution_count": 25,
   "metadata": {
    "pycharm": {
     "name": "#%%\n"
    }
   },
   "outputs": [
    {
     "data": {
      "image/png": "[encoded data removed]",
      "text/plain": [
       "<Figure size 1200x552 with 1 Axes>"
      ]
     },
     "metadata": {},
     "output_type": "display_data"
    }
   ],
   "source": [
    "with model_unpooled:\n",
    "    axes = az.plot_forest (trace_unpooled,  kind='ridgeplot', hdi_prob=0.95, var_names=\"group_sigma\", combined=True);\n",
    "    plt.title(\"Posterior standard deviation for the 6 machines\")\n",
    "    #axes[0].set_yticklabels(machines[::-1])"
   ]
  },
  {
   "cell_type": "markdown",
   "metadata": {
    "pycharm": {
     "name": "#%% md\n"
    }
   },
   "source": [
    "* Compare the sample unpooled standard deviation with the bayesian estimate. What do you observe?"
   ]
  },
  {
   "cell_type": "markdown",
   "metadata": {
    "pycharm": {
     "name": "#%% md\n"
    }
   },
   "source": [
    "We already computed the sample standard deviations before:"
   ]
  },
  {
   "cell_type": "code",
   "execution_count": 26,
   "metadata": {
    "pycharm": {
     "name": "#%%\n"
    }
   },
   "outputs": [
    {
     "data": {
      "text/html": [
       "<div>\n",
       "<style scoped>\n",
       "    .dataframe tbody tr th:only-of-type {\n",
       "        vertical-align: middle;\n",
       "    }\n",
       "\n",
       "    .dataframe tbody tr th {\n",
       "        vertical-align: top;\n",
       "    }\n",
       "\n",
       "    .dataframe thead tr th {\n",
       "        text-align: left;\n",
       "    }\n",
       "\n",
       "    .dataframe thead tr:last-of-type th {\n",
       "        text-align: right;\n",
       "    }\n",
       "</style>\n",
       "<table border=\"1\" class=\"dataframe\">\n",
       "  <thead>\n",
       "    <tr>\n",
       "      <th></th>\n",
       "      <th colspan=\"2\" halign=\"left\">quality</th>\n",
       "    </tr>\n",
       "    <tr>\n",
       "      <th></th>\n",
       "      <th>mean</th>\n",
       "      <th>std</th>\n",
       "    </tr>\n",
       "    <tr>\n",
       "      <th>machine</th>\n",
       "      <th></th>\n",
       "      <th></th>\n",
       "    </tr>\n",
       "  </thead>\n",
       "  <tbody>\n",
       "    <tr>\n",
       "      <th>M1</th>\n",
       "      <td>76.0</td>\n",
       "      <td>19.634154</td>\n",
       "    </tr>\n",
       "    <tr>\n",
       "      <th>M2</th>\n",
       "      <td>106.2</td>\n",
       "      <td>11.819475</td>\n",
       "    </tr>\n",
       "    <tr>\n",
       "      <th>M3</th>\n",
       "      <td>87.8</td>\n",
       "      <td>12.794530</td>\n",
       "    </tr>\n",
       "    <tr>\n",
       "      <th>M4</th>\n",
       "      <td>111.6</td>\n",
       "      <td>7.569676</td>\n",
       "    </tr>\n",
       "    <tr>\n",
       "      <th>M5</th>\n",
       "      <td>90.0</td>\n",
       "      <td>10.770330</td>\n",
       "    </tr>\n",
       "    <tr>\n",
       "      <th>M6</th>\n",
       "      <td>86.0</td>\n",
       "      <td>19.222383</td>\n",
       "    </tr>\n",
       "  </tbody>\n",
       "</table>\n",
       "</div>"
      ],
      "text/plain": [
       "        quality           \n",
       "           mean        std\n",
       "machine                   \n",
       "M1         76.0  19.634154\n",
       "M2        106.2  11.819475\n",
       "M3         87.8  12.794530\n",
       "M4        111.6   7.569676\n",
       "M5         90.0  10.770330\n",
       "M6         86.0  19.222383"
      ]
     },
     "execution_count": 26,
     "metadata": {},
     "output_type": "execute_result"
    }
   ],
   "source": [
    "df.groupby(\"machine\")[[\"quality\"]].agg([\"mean\", \"std\"])"
   ]
  },
  {
   "cell_type": "markdown",
   "metadata": {
    "pycharm": {
     "name": "#%% md\n"
    }
   },
   "source": [
    "The posterior means of the bayesian estimates are:"
   ]
  },
  {
   "cell_type": "code",
   "execution_count": 27,
   "metadata": {
    "pycharm": {
     "name": "#%%\n"
    }
   },
   "outputs": [
    {
     "data": {
      "text/html": [
       "<div>\n",
       "<style scoped>\n",
       "    .dataframe tbody tr th:only-of-type {\n",
       "        vertical-align: middle;\n",
       "    }\n",
       "\n",
       "    .dataframe tbody tr th {\n",
       "        vertical-align: top;\n",
       "    }\n",
       "\n",
       "    .dataframe thead th {\n",
       "        text-align: right;\n",
       "    }\n",
       "</style>\n",
       "<table border=\"1\" class=\"dataframe\">\n",
       "  <thead>\n",
       "    <tr style=\"text-align: right;\">\n",
       "      <th></th>\n",
       "      <th>mean</th>\n",
       "      <th>sd</th>\n",
       "      <th>hdi_3%</th>\n",
       "      <th>hdi_97%</th>\n",
       "      <th>mcse_mean</th>\n",
       "      <th>mcse_sd</th>\n",
       "      <th>ess_bulk</th>\n",
       "      <th>ess_tail</th>\n",
       "      <th>r_hat</th>\n",
       "    </tr>\n",
       "  </thead>\n",
       "  <tbody>\n",
       "    <tr>\n",
       "      <th>group_sigma[M1]</th>\n",
       "      <td>22.212</td>\n",
       "      <td>7.375</td>\n",
       "      <td>10.845</td>\n",
       "      <td>36.094</td>\n",
       "      <td>0.054</td>\n",
       "      <td>0.040</td>\n",
       "      <td>22159.0</td>\n",
       "      <td>15384.0</td>\n",
       "      <td>1.0</td>\n",
       "    </tr>\n",
       "    <tr>\n",
       "      <th>group_sigma[M2]</th>\n",
       "      <td>15.283</td>\n",
       "      <td>6.281</td>\n",
       "      <td>6.237</td>\n",
       "      <td>26.532</td>\n",
       "      <td>0.053</td>\n",
       "      <td>0.039</td>\n",
       "      <td>17747.0</td>\n",
       "      <td>13242.0</td>\n",
       "      <td>1.0</td>\n",
       "    </tr>\n",
       "    <tr>\n",
       "      <th>group_sigma[M3]</th>\n",
       "      <td>15.927</td>\n",
       "      <td>6.147</td>\n",
       "      <td>6.984</td>\n",
       "      <td>27.280</td>\n",
       "      <td>0.049</td>\n",
       "      <td>0.036</td>\n",
       "      <td>19382.0</td>\n",
       "      <td>14076.0</td>\n",
       "      <td>1.0</td>\n",
       "    </tr>\n",
       "    <tr>\n",
       "      <th>group_sigma[M4]</th>\n",
       "      <td>10.552</td>\n",
       "      <td>4.976</td>\n",
       "      <td>4.134</td>\n",
       "      <td>19.573</td>\n",
       "      <td>0.044</td>\n",
       "      <td>0.032</td>\n",
       "      <td>16235.0</td>\n",
       "      <td>12777.0</td>\n",
       "      <td>1.0</td>\n",
       "    </tr>\n",
       "    <tr>\n",
       "      <th>group_sigma[M5]</th>\n",
       "      <td>13.969</td>\n",
       "      <td>5.721</td>\n",
       "      <td>5.766</td>\n",
       "      <td>24.399</td>\n",
       "      <td>0.046</td>\n",
       "      <td>0.034</td>\n",
       "      <td>18460.0</td>\n",
       "      <td>14560.0</td>\n",
       "      <td>1.0</td>\n",
       "    </tr>\n",
       "    <tr>\n",
       "      <th>group_sigma[M6]</th>\n",
       "      <td>21.741</td>\n",
       "      <td>7.375</td>\n",
       "      <td>10.506</td>\n",
       "      <td>35.634</td>\n",
       "      <td>0.055</td>\n",
       "      <td>0.043</td>\n",
       "      <td>21461.0</td>\n",
       "      <td>14006.0</td>\n",
       "      <td>1.0</td>\n",
       "    </tr>\n",
       "  </tbody>\n",
       "</table>\n",
       "</div>"
      ],
      "text/plain": [
       "                   mean     sd  hdi_3%  hdi_97%  mcse_mean  mcse_sd  ess_bulk  \\\n",
       "group_sigma[M1]  22.212  7.375  10.845   36.094      0.054    0.040   22159.0   \n",
       "group_sigma[M2]  15.283  6.281   6.237   26.532      0.053    0.039   17747.0   \n",
       "group_sigma[M3]  15.927  6.147   6.984   27.280      0.049    0.036   19382.0   \n",
       "group_sigma[M4]  10.552  4.976   4.134   19.573      0.044    0.032   16235.0   \n",
       "group_sigma[M5]  13.969  5.721   5.766   24.399      0.046    0.034   18460.0   \n",
       "group_sigma[M6]  21.741  7.375  10.506   35.634      0.055    0.043   21461.0   \n",
       "\n",
       "                 ess_tail  r_hat  \n",
       "group_sigma[M1]   15384.0    1.0  \n",
       "group_sigma[M2]   13242.0    1.0  \n",
       "group_sigma[M3]   14076.0    1.0  \n",
       "group_sigma[M4]   12777.0    1.0  \n",
       "group_sigma[M5]   14560.0    1.0  \n",
       "group_sigma[M6]   14006.0    1.0  "
      ]
     },
     "metadata": {},
     "output_type": "display_data"
    }
   ],
   "source": [
    "with model_unpooled:\n",
    "    display(az.summary(trace_unpooled, var_names=[\"group_sigma\"]))"
   ]
  },
  {
   "cell_type": "code",
   "execution_count": 28,
   "metadata": {
    "pycharm": {
     "name": "#%%\n"
    }
   },
   "outputs": [
    {
     "data": {
      "image/png": "[encoded data removed]",
      "text/plain": [
       "<Figure size 2208x1104 with 6 Axes>"
      ]
     },
     "metadata": {},
     "output_type": "display_data"
    }
   ],
   "source": [
    "# az.plot_posterior(trace_separate[\"group_std\"][:, 0], point_estimate='mode')\n",
    "with model_unpooled:\n",
    "    az.plot_posterior(trace_unpooled, var_names=[\"group_sigma\"], point_estimate='mode'); # the posterior mean is 29, the mode is 19!"
   ]
  },
  {
   "cell_type": "markdown",
   "metadata": {
    "pycharm": {
     "name": "#%% md\n"
    }
   },
   "source": [
    "The sample std is rather different from the posterior std mean. The sample std is actually much similar to the posterior mode (as expected from theory)! The posterior std distributions are heavily right-skewed!"
   ]
  },
  {
   "cell_type": "markdown",
   "metadata": {
    "pycharm": {
     "name": "#%% md\n"
    }
   },
   "source": [
    "## Hierarchical model, common std\n",
    "\n",
    "Consider the following Bayesian hierarchical model:\n",
    "\n",
    "\\begin{align*}\n",
    "\\mu_\\mu & \\sim N(90, 10)\\\\\n",
    "\\sigma_\\mu  & \\sim \\text{HalfNormal}(30) \\\\\n",
    "\\mu_{j} &\\sim {N}(\\mu_\\mu, \\sigma_\\mu) \\\\\n",
    "\\sigma &\\sim \\text{HalfNormal}(23) \\\\\n",
    "\\vec{y}_{ij} &\\sim {N}(\\mu_j, \\sigma) \\\\\n",
    "\\end{align*}\n",
    "\n"
   ]
  },
  {
   "cell_type": "markdown",
   "metadata": {},
   "source": [
    "* Discuss the hierarchical model and its underlying hypotheses "
   ]
  },
  {
   "cell_type": "markdown",
   "metadata": {},
   "source": [
    "The hierarchical model may be seen as an extension of the unpooled model. While in the unpooled model the 6 different $\\mu_j$ are independent of each other, in the hierarchical model they share common parent variabes $\\mu_\\mu$ and $\\sigma_\\mu$ representing our prior belief about their mean value and their spread, respectively. Indeed, each $\\mu_j$ is assumed to be normal with mean $\\mu_\\mu$ and standard deviation $\\sigma_\\mu$. Furthermore, we assume a single random variable $\\sigma$ modeling the spread of the different measurements for a given machine (note that in the previous unpooled model we had different standard deviation parameters for the different groups, it is kind of an arbitrary choice/modeling assumption).\n",
    "\n",
    "From the numerical values of the model coefficients, the modeler might have made the following assumptions:\n",
    "1. The mean of the mean quality of each machine is between $90-3*10=60$ and $90+3*10=120$ with probability 99% $\\Rightarrow$ from $\\mu_\\mu \\sim N(90, 10)$\n",
    "2. The quality measurements of each machine are in a range of width $15*6=90$ with probability 99% $\\Rightarrow$ from $\\sigma \\sim \\text{HalfNormal}(23)$\n",
    "3. The different $\\mu_j$ vary in a range of width $6*20=120$ with probability 99% $\\Rightarrow$ from $\\sigma_\\mu  \\sim \\text{HalfNormal}(30)$"
   ]
  },
  {
   "cell_type": "code",
   "execution_count": 29,
   "metadata": {},
   "outputs": [
    {
     "data": {
      "text/plain": [
       "0    15.220348\n",
       "dtype: float64"
      ]
     },
     "execution_count": 29,
     "metadata": {},
     "output_type": "execute_result"
    }
   ],
   "source": [
    "pd.DataFrame(stats.halfnorm.rvs(size=10_000, scale=23)).median()"
   ]
  },
  {
   "cell_type": "code",
   "execution_count": 30,
   "metadata": {},
   "outputs": [
    {
     "data": {
      "text/plain": [
       "0    20.6147\n",
       "dtype: float64"
      ]
     },
     "execution_count": 30,
     "metadata": {},
     "output_type": "execute_result"
    }
   ],
   "source": [
    "pd.DataFrame(stats.halfnorm.rvs(size=10_000, scale=30)).median()"
   ]
  },
  {
   "cell_type": "markdown",
   "metadata": {},
   "source": [
    "* Implement the hierarchical model in pymc3"
   ]
  },
  {
   "cell_type": "code",
   "execution_count": 31,
   "metadata": {
    "pycharm": {
     "name": "#%%\n"
    }
   },
   "outputs": [
    {
     "name": "stderr",
     "output_type": "stream",
     "text": [
      "Auto-assigning NUTS sampler...\n",
      "Initializing NUTS using jitter+adapt_diag...\n",
      "Multiprocess sampling (2 chains in 2 jobs)\n",
      "NUTS: [global_std, group_mu, sigma_mu, mu_mu]\n"
     ]
    },
    {
     "data": {
      "text/html": [
       "\n",
       "    <div>\n",
       "        <style>\n",
       "            /* Turns off some styling */\n",
       "            progress {\n",
       "                /* gets rid of default border in Firefox and Opera. */\n",
       "                border: none;\n",
       "                /* Needs to be in here for Safari polyfill so background images work as expected. */\n",
       "                background-size: auto;\n",
       "            }\n",
       "            .progress-bar-interrupted, .progress-bar-interrupted::-webkit-progress-bar {\n",
       "                background: #F44336;\n",
       "            }\n",
       "        </style>\n",
       "      <progress value='22000' class='' max='22000' style='width:300px; height:20px; vertical-align: middle;'></progress>\n",
       "      100.00% [22000/22000 00:17<00:00 Sampling 2 chains, 355 divergences]\n",
       "    </div>\n",
       "    "
      ],
      "text/plain": [
       "<IPython.core.display.HTML object>"
      ]
     },
     "metadata": {},
     "output_type": "display_data"
    },
    {
     "name": "stderr",
     "output_type": "stream",
     "text": [
      "Sampling 2 chains for 1_000 tune and 10_000 draw iterations (2_000 + 20_000 draws total) took 17 seconds.\n",
      "There were 122 divergences after tuning. Increase `target_accept` or reparameterize.\n",
      "There were 233 divergences after tuning. Increase `target_accept` or reparameterize.\n",
      "The number of effective samples is smaller than 10% for some parameters.\n"
     ]
    }
   ],
   "source": [
    "with pm.Model() as model_hierarchical:\n",
    "    \n",
    "    # hyper_priors\n",
    "    mu_mu = pm.Normal('mu_mu', mu=90, sd=10)\n",
    "    sigma_mu = pm.HalfNormal('sigma_mu', sd=30)\n",
    "\n",
    "    # priors    \n",
    "    group_mu = pm.Normal('group_mu', mu=mu_mu, sd=sigma_mu, shape=n_machines)\n",
    "    global_std = pm.HalfNormal('global_std', sd=23)\n",
    "    y = pm.Normal('y', mu=group_mu[df[\"machine_id\"]], sd=global_std, observed=df[\"quality\"])\n",
    "    trace_hierarchical = pm.sample(10_000, return_inferencedata=True)"
   ]
  },
  {
   "cell_type": "code",
   "execution_count": 32,
   "metadata": {},
   "outputs": [
    {
     "data": {
      "image/svg+xml": [
       "<?xml version=\"1.0\" encoding=\"UTF-8\" standalone=\"no\"?>\n",
       "<!DOCTYPE svg PUBLIC \"-//W3C//DTD SVG 1.1//EN\"\n",
       " \"http://www.w3.org/Graphics/SVG/1.1/DTD/svg11.dtd\">\n",
       "<!-- Generated by graphviz version 2.40.1 (20161225.0304)\n",
       " -->\n",
       "<!-- Title: %3 Pages: 1 -->\n",
       "<svg width=\"295pt\" height=\"355pt\"\n",
       " viewBox=\"0.00 0.00 295.41 354.86\" xmlns=\"http://www.w3.org/2000/svg\" xmlns:xlink=\"http://www.w3.org/1999/xlink\">\n",
       "<g id=\"graph0\" class=\"graph\" transform=\"scale(1 1) rotate(0) translate(4 350.86)\">\n",
       "<title>%3</title>\n",
       "<polygon fill=\"#ffffff\" stroke=\"transparent\" points=\"-4,4 -4,-350.86 291.4092,-350.86 291.4092,4 -4,4\"/>\n",
       "<g id=\"clust1\" class=\"cluster\">\n",
       "<title>cluster6</title>\n",
       "<path fill=\"none\" stroke=\"#000000\" d=\"M52.7193,-129.9533C52.7193,-129.9533 148.7193,-129.9533 148.7193,-129.9533 154.7193,-129.9533 160.7193,-135.9533 160.7193,-141.9533 160.7193,-141.9533 160.7193,-231.9066 160.7193,-231.9066 160.7193,-237.9066 154.7193,-243.9066 148.7193,-243.9066 148.7193,-243.9066 52.7193,-243.9066 52.7193,-243.9066 46.7193,-243.9066 40.7193,-237.9066 40.7193,-231.9066 40.7193,-231.9066 40.7193,-141.9533 40.7193,-141.9533 40.7193,-135.9533 46.7193,-129.9533 52.7193,-129.9533\"/>\n",
       "<text text-anchor=\"middle\" x=\"149.2193\" y=\"-137.7533\" font-family=\"Times,serif\" font-size=\"14.00\" fill=\"#000000\">6</text>\n",
       "</g>\n",
       "<g id=\"clust2\" class=\"cluster\">\n",
       "<title>cluster30</title>\n",
       "<path fill=\"none\" stroke=\"#000000\" d=\"M67.7193,-8C67.7193,-8 143.7193,-8 143.7193,-8 149.7193,-8 155.7193,-14 155.7193,-20 155.7193,-20 155.7193,-109.9533 155.7193,-109.9533 155.7193,-115.9533 149.7193,-121.9533 143.7193,-121.9533 143.7193,-121.9533 67.7193,-121.9533 67.7193,-121.9533 61.7193,-121.9533 55.7193,-115.9533 55.7193,-109.9533 55.7193,-109.9533 55.7193,-20 55.7193,-20 55.7193,-14 61.7193,-8 67.7193,-8\"/>\n",
       "<text text-anchor=\"middle\" x=\"140.7193\" y=\"-15.8\" font-family=\"Times,serif\" font-size=\"14.00\" fill=\"#000000\">30</text>\n",
       "</g>\n",
       "<!-- mu_mu -->\n",
       "<g id=\"node1\" class=\"node\">\n",
       "<title>mu_mu</title>\n",
       "<ellipse fill=\"none\" stroke=\"#000000\" cx=\"41.7193\" cy=\"-309.3833\" rx=\"41.9398\" ry=\"37.4533\"/>\n",
       "<text text-anchor=\"middle\" x=\"41.7193\" y=\"-320.6833\" font-family=\"Times,serif\" font-size=\"14.00\" fill=\"#000000\">mu_mu</text>\n",
       "<text text-anchor=\"middle\" x=\"41.7193\" y=\"-305.6833\" font-family=\"Times,serif\" font-size=\"14.00\" fill=\"#000000\">~</text>\n",
       "<text text-anchor=\"middle\" x=\"41.7193\" y=\"-290.6833\" font-family=\"Times,serif\" font-size=\"14.00\" fill=\"#000000\">Normal</text>\n",
       "</g>\n",
       "<!-- group_mu -->\n",
       "<g id=\"node4\" class=\"node\">\n",
       "<title>group_mu</title>\n",
       "<ellipse fill=\"none\" stroke=\"#000000\" cx=\"100.7193\" cy=\"-198.43\" rx=\"51.7379\" ry=\"37.4533\"/>\n",
       "<text text-anchor=\"middle\" x=\"100.7193\" y=\"-209.73\" font-family=\"Times,serif\" font-size=\"14.00\" fill=\"#000000\">group_mu</text>\n",
       "<text text-anchor=\"middle\" x=\"100.7193\" y=\"-194.73\" font-family=\"Times,serif\" font-size=\"14.00\" fill=\"#000000\">~</text>\n",
       "<text text-anchor=\"middle\" x=\"100.7193\" y=\"-179.73\" font-family=\"Times,serif\" font-size=\"14.00\" fill=\"#000000\">Normal</text>\n",
       "</g>\n",
       "<!-- mu_mu&#45;&gt;group_mu -->\n",
       "<g id=\"edge1\" class=\"edge\">\n",
       "<title>mu_mu&#45;&gt;group_mu</title>\n",
       "<path fill=\"none\" stroke=\"#000000\" d=\"M59.7418,-275.4908C65.2487,-265.1348 71.3877,-253.5899 77.2029,-242.6541\"/>\n",
       "<polygon fill=\"#000000\" stroke=\"#000000\" points=\"80.3857,-244.1232 81.9905,-233.6506 74.2052,-240.8367 80.3857,-244.1232\"/>\n",
       "</g>\n",
       "<!-- sigma_mu -->\n",
       "<g id=\"node2\" class=\"node\">\n",
       "<title>sigma_mu</title>\n",
       "<ellipse fill=\"none\" stroke=\"#000000\" cx=\"159.7193\" cy=\"-309.3833\" rx=\"58.8803\" ry=\"37.4533\"/>\n",
       "<text text-anchor=\"middle\" x=\"159.7193\" y=\"-320.6833\" font-family=\"Times,serif\" font-size=\"14.00\" fill=\"#000000\">sigma_mu</text>\n",
       "<text text-anchor=\"middle\" x=\"159.7193\" y=\"-305.6833\" font-family=\"Times,serif\" font-size=\"14.00\" fill=\"#000000\">~</text>\n",
       "<text text-anchor=\"middle\" x=\"159.7193\" y=\"-290.6833\" font-family=\"Times,serif\" font-size=\"14.00\" fill=\"#000000\">HalfNormal</text>\n",
       "</g>\n",
       "<!-- sigma_mu&#45;&gt;group_mu -->\n",
       "<g id=\"edge2\" class=\"edge\">\n",
       "<title>sigma_mu&#45;&gt;group_mu</title>\n",
       "<path fill=\"none\" stroke=\"#000000\" d=\"M140.7266,-273.6662C135.4636,-263.7688 129.6873,-252.9061 124.2011,-242.5889\"/>\n",
       "<polygon fill=\"#000000\" stroke=\"#000000\" points=\"127.26,-240.8867 119.4747,-233.7007 121.0795,-244.1733 127.26,-240.8867\"/>\n",
       "</g>\n",
       "<!-- global_std -->\n",
       "<g id=\"node3\" class=\"node\">\n",
       "<title>global_std</title>\n",
       "<ellipse fill=\"none\" stroke=\"#000000\" cx=\"228.7193\" cy=\"-198.43\" rx=\"58.8803\" ry=\"37.4533\"/>\n",
       "<text text-anchor=\"middle\" x=\"228.7193\" y=\"-209.73\" font-family=\"Times,serif\" font-size=\"14.00\" fill=\"#000000\">global_std</text>\n",
       "<text text-anchor=\"middle\" x=\"228.7193\" y=\"-194.73\" font-family=\"Times,serif\" font-size=\"14.00\" fill=\"#000000\">~</text>\n",
       "<text text-anchor=\"middle\" x=\"228.7193\" y=\"-179.73\" font-family=\"Times,serif\" font-size=\"14.00\" fill=\"#000000\">HalfNormal</text>\n",
       "</g>\n",
       "<!-- y -->\n",
       "<g id=\"node5\" class=\"node\">\n",
       "<title>y</title>\n",
       "<ellipse fill=\"#d3d3d3\" stroke=\"#000000\" cx=\"105.7193\" cy=\"-76.4767\" rx=\"41.9398\" ry=\"37.4533\"/>\n",
       "<text text-anchor=\"middle\" x=\"105.7193\" y=\"-87.7767\" font-family=\"Times,serif\" font-size=\"14.00\" fill=\"#000000\">y</text>\n",
       "<text text-anchor=\"middle\" x=\"105.7193\" y=\"-72.7767\" font-family=\"Times,serif\" font-size=\"14.00\" fill=\"#000000\">~</text>\n",
       "<text text-anchor=\"middle\" x=\"105.7193\" y=\"-57.7767\" font-family=\"Times,serif\" font-size=\"14.00\" fill=\"#000000\">Normal</text>\n",
       "</g>\n",
       "<!-- global_std&#45;&gt;y -->\n",
       "<g id=\"edge3\" class=\"edge\">\n",
       "<title>global_std&#45;&gt;y</title>\n",
       "<path fill=\"none\" stroke=\"#000000\" d=\"M199.3025,-165.8562C188.615,-154.3177 176.3132,-141.3713 164.7193,-129.9533 157.9199,-123.257 150.4973,-116.2837 143.2822,-109.6695\"/>\n",
       "<polygon fill=\"#000000\" stroke=\"#000000\" points=\"145.328,-106.7993 135.5736,-102.6636 140.6199,-111.9795 145.328,-106.7993\"/>\n",
       "</g>\n",
       "<!-- group_mu&#45;&gt;y -->\n",
       "<g id=\"edge4\" class=\"edge\">\n",
       "<title>group_mu&#45;&gt;y</title>\n",
       "<path fill=\"none\" stroke=\"#000000\" d=\"M102.2603,-160.8449C102.7355,-149.2534 103.2652,-136.3328 103.7645,-124.1558\"/>\n",
       "<polygon fill=\"#000000\" stroke=\"#000000\" points=\"107.2621,-124.2826 104.1748,-114.1476 100.268,-123.9958 107.2621,-124.2826\"/>\n",
       "</g>\n",
       "</g>\n",
       "</svg>\n"
      ],
      "text/plain": [
       "<graphviz.graphs.Digraph at 0x7f0afafb7820>"
      ]
     },
     "execution_count": 32,
     "metadata": {},
     "output_type": "execute_result"
    }
   ],
   "source": [
    "pm.model_to_graphviz(model_hierarchical)"
   ]
  },
  {
   "cell_type": "code",
   "execution_count": 33,
   "metadata": {},
   "outputs": [],
   "source": [
    "trace_hierarchical.posterior = trace_hierarchical.posterior.assign_coords(group_mu_dim_0=machines)"
   ]
  },
  {
   "cell_type": "code",
   "execution_count": 34,
   "metadata": {
    "pycharm": {
     "name": "#%%\n"
    }
   },
   "outputs": [
    {
     "data": {
      "text/html": [
       "<div>\n",
       "<style scoped>\n",
       "    .dataframe tbody tr th:only-of-type {\n",
       "        vertical-align: middle;\n",
       "    }\n",
       "\n",
       "    .dataframe tbody tr th {\n",
       "        vertical-align: top;\n",
       "    }\n",
       "\n",
       "    .dataframe thead th {\n",
       "        text-align: right;\n",
       "    }\n",
       "</style>\n",
       "<table border=\"1\" class=\"dataframe\">\n",
       "  <thead>\n",
       "    <tr style=\"text-align: right;\">\n",
       "      <th></th>\n",
       "      <th>mean</th>\n",
       "      <th>sd</th>\n",
       "      <th>hdi_3%</th>\n",
       "      <th>hdi_97%</th>\n",
       "      <th>mcse_mean</th>\n",
       "      <th>mcse_sd</th>\n",
       "      <th>ess_bulk</th>\n",
       "      <th>ess_tail</th>\n",
       "      <th>r_hat</th>\n",
       "    </tr>\n",
       "  </thead>\n",
       "  <tbody>\n",
       "    <tr>\n",
       "      <th>mu_mu</th>\n",
       "      <td>92.135</td>\n",
       "      <td>5.307</td>\n",
       "      <td>81.923</td>\n",
       "      <td>102.096</td>\n",
       "      <td>0.038</td>\n",
       "      <td>0.027</td>\n",
       "      <td>18899.0</td>\n",
       "      <td>14571.0</td>\n",
       "      <td>1.0</td>\n",
       "    </tr>\n",
       "    <tr>\n",
       "      <th>group_mu[M1]</th>\n",
       "      <td>80.190</td>\n",
       "      <td>6.575</td>\n",
       "      <td>68.283</td>\n",
       "      <td>92.916</td>\n",
       "      <td>0.096</td>\n",
       "      <td>0.070</td>\n",
       "      <td>4766.0</td>\n",
       "      <td>3544.0</td>\n",
       "      <td>1.0</td>\n",
       "    </tr>\n",
       "    <tr>\n",
       "      <th>group_mu[M2]</th>\n",
       "      <td>102.684</td>\n",
       "      <td>6.355</td>\n",
       "      <td>90.569</td>\n",
       "      <td>114.200</td>\n",
       "      <td>0.080</td>\n",
       "      <td>0.057</td>\n",
       "      <td>6178.0</td>\n",
       "      <td>4013.0</td>\n",
       "      <td>1.0</td>\n",
       "    </tr>\n",
       "    <tr>\n",
       "      <th>group_mu[M3]</th>\n",
       "      <td>88.996</td>\n",
       "      <td>5.975</td>\n",
       "      <td>77.689</td>\n",
       "      <td>100.408</td>\n",
       "      <td>0.045</td>\n",
       "      <td>0.032</td>\n",
       "      <td>17314.0</td>\n",
       "      <td>11766.0</td>\n",
       "      <td>1.0</td>\n",
       "    </tr>\n",
       "    <tr>\n",
       "      <th>group_mu[M4]</th>\n",
       "      <td>106.643</td>\n",
       "      <td>6.781</td>\n",
       "      <td>93.426</td>\n",
       "      <td>118.736</td>\n",
       "      <td>0.112</td>\n",
       "      <td>0.079</td>\n",
       "      <td>3844.0</td>\n",
       "      <td>2037.0</td>\n",
       "      <td>1.0</td>\n",
       "    </tr>\n",
       "    <tr>\n",
       "      <th>group_mu[M5]</th>\n",
       "      <td>90.586</td>\n",
       "      <td>5.899</td>\n",
       "      <td>79.434</td>\n",
       "      <td>101.666</td>\n",
       "      <td>0.045</td>\n",
       "      <td>0.032</td>\n",
       "      <td>16902.0</td>\n",
       "      <td>11861.0</td>\n",
       "      <td>1.0</td>\n",
       "    </tr>\n",
       "    <tr>\n",
       "      <th>group_mu[M6]</th>\n",
       "      <td>87.724</td>\n",
       "      <td>6.035</td>\n",
       "      <td>76.307</td>\n",
       "      <td>99.152</td>\n",
       "      <td>0.049</td>\n",
       "      <td>0.035</td>\n",
       "      <td>14877.0</td>\n",
       "      <td>10917.0</td>\n",
       "      <td>1.0</td>\n",
       "    </tr>\n",
       "    <tr>\n",
       "      <th>sigma_mu</th>\n",
       "      <td>13.836</td>\n",
       "      <td>6.444</td>\n",
       "      <td>2.711</td>\n",
       "      <td>24.714</td>\n",
       "      <td>0.101</td>\n",
       "      <td>0.071</td>\n",
       "      <td>1943.0</td>\n",
       "      <td>693.0</td>\n",
       "      <td>1.0</td>\n",
       "    </tr>\n",
       "    <tr>\n",
       "      <th>global_std</th>\n",
       "      <td>15.064</td>\n",
       "      <td>2.291</td>\n",
       "      <td>10.978</td>\n",
       "      <td>19.247</td>\n",
       "      <td>0.025</td>\n",
       "      <td>0.018</td>\n",
       "      <td>9674.0</td>\n",
       "      <td>9253.0</td>\n",
       "      <td>1.0</td>\n",
       "    </tr>\n",
       "  </tbody>\n",
       "</table>\n",
       "</div>"
      ],
      "text/plain": [
       "                 mean     sd  hdi_3%  hdi_97%  mcse_mean  mcse_sd  ess_bulk  \\\n",
       "mu_mu          92.135  5.307  81.923  102.096      0.038    0.027   18899.0   \n",
       "group_mu[M1]   80.190  6.575  68.283   92.916      0.096    0.070    4766.0   \n",
       "group_mu[M2]  102.684  6.355  90.569  114.200      0.080    0.057    6178.0   \n",
       "group_mu[M3]   88.996  5.975  77.689  100.408      0.045    0.032   17314.0   \n",
       "group_mu[M4]  106.643  6.781  93.426  118.736      0.112    0.079    3844.0   \n",
       "group_mu[M5]   90.586  5.899  79.434  101.666      0.045    0.032   16902.0   \n",
       "group_mu[M6]   87.724  6.035  76.307   99.152      0.049    0.035   14877.0   \n",
       "sigma_mu       13.836  6.444   2.711   24.714      0.101    0.071    1943.0   \n",
       "global_std     15.064  2.291  10.978   19.247      0.025    0.018    9674.0   \n",
       "\n",
       "              ess_tail  r_hat  \n",
       "mu_mu          14571.0    1.0  \n",
       "group_mu[M1]    3544.0    1.0  \n",
       "group_mu[M2]    4013.0    1.0  \n",
       "group_mu[M3]   11766.0    1.0  \n",
       "group_mu[M4]    2037.0    1.0  \n",
       "group_mu[M5]   11861.0    1.0  \n",
       "group_mu[M6]   10917.0    1.0  \n",
       "sigma_mu         693.0    1.0  \n",
       "global_std      9253.0    1.0  "
      ]
     },
     "execution_count": 34,
     "metadata": {},
     "output_type": "execute_result"
    }
   ],
   "source": [
    "az.summary(trace_hierarchical)"
   ]
  },
  {
   "cell_type": "markdown",
   "metadata": {},
   "source": [
    "## Model selection \n",
    "\n",
    "What is the best model ultimately? In our case: Pooled, Unpooled, or Hierarchical?\n",
    "\n",
    "\n",
    "To answer this question, we need a **model selection** strategy/metric.\n",
    "\n",
    "* You know metrics for point regression models (mse, rmse, mae,...)\n",
    "* You know metrics for point classification models (accuracy, prediciton, recall...)\n",
    "\n",
    "\n",
    "### The WAIC Criterion \n",
    "To score full Bayesian models, we need a metric that evaluates a (sample-based approximation of a) *distribution*. \n",
    "\n",
    "* A popular metric to score a distribution is the log-pointwise-predictive-density ${\\rm lpd}(y, \\Theta)$:\n",
    "$$ {\\rm lpd}(y, \\Theta) = \\sum_i \\log \\frac{1}{S} \\sum_s p(y_i | \\Theta_s),$$\n",
    "where $y$ are the observations and $\\Theta$ is the sample-based approximation of the posterior ($\\Theta_s$ is a single MCMC draw). It is the (approximate) logarithm of the expected likelihood (the higher, the better)!\n",
    "\n",
    "\n",
    "* The ${\\rm lpd}(y, \\Theta)$ generally increases for increasing model complexity and it is thus prone to overfitting when used on the same data used for model building. It should be evaluated with fresh data in (cross)-validation.\n",
    "\n",
    "* The WAIC criterion (the lower, the better) balances high ${\\rm lpd}$ and low model complexity explicitly. It can be applied directly on the training data $y$!\n",
    "\n",
    "\\begin{align}\n",
    "{\\rm WAIC}(y, \\Theta) &= -2(\\rm{lpd} - p_{\\rm waic}).\\\\\n",
    " p_{{\\rm waic}} &= \\sum_i {\\rm var}_{\\theta} \\log p(y_i|\\theta)\n",
    "\\end{align}\n",
    "\n",
    "* The WAIC is equivalent up to a factor to the ${\\rm elpd}$, the *expected* $\\rm{lpd}$ on fresh data (the higher, the better):\n",
    "\n",
    "$${\\rm elpd}(y, \\Theta) = \\rm{lpd} - p_{\\rm waic}.$$\n",
    "\n",
    "Advantages of WAIC/elpd:\n",
    "\n",
    "* Well-defined both for continuous and for categorical observations\n",
    "* Applicable to Bayesian models returning point-wise estimates\n",
    "* Applicable to the training data directly (built-in complexity penalty)\n",
    "* Works well in practice\n",
    "\n",
    "Note: WAIC stands for Widely Applicable Information Criterion!\n",
    "\n",
    "### The WAIC Criterion in arviz\n",
    "\n",
    "Arviz has a built-in function `az.waic` to compute the WAIC (actually, as of v0.12.1, arviz computes the ${\\rm elpd}$, see <a href=\"https://python.arviz.org/en/v0.12.1/api/generated/arviz.waic.html?highlight=waic\">documentation</a>):\n"
   ]
  },
  {
   "cell_type": "code",
   "execution_count": 35,
   "metadata": {},
   "outputs": [
    {
     "name": "stderr",
     "output_type": "stream",
     "text": [
      "/home/marco/anaconda3/envs/bda/lib/python3.10/site-packages/arviz/stats/stats.py:1661: UserWarning: For one or more samples the posterior variance of the log predictive densities exceeds 0.4. This could be indication of WAIC starting to fail. \n",
      "See http://arxiv.org/abs/1507.04544 for details\n",
      "  warnings.warn(\n"
     ]
    },
    {
     "data": {
      "text/plain": [
       "Computed from 20000 posterior samples and 30 observations log-likelihood matrix.\n",
       "\n",
       "          Estimate       SE\n",
       "elpd_waic  -130.87     4.17\n",
       "p_waic        1.94        -\n",
       "\n",
       "There has been a warning during the calculation. Please check the results."
      ]
     },
     "execution_count": 35,
     "metadata": {},
     "output_type": "execute_result"
    }
   ],
   "source": [
    "az.waic(trace_pooled)"
   ]
  },
  {
   "cell_type": "markdown",
   "metadata": {},
   "source": [
    "There is an even more convenient method to evaluate the criterion on several models and rank them according to the WAIC criterion (from best to worst, ascending WAIC/descending elpd)"
   ]
  },
  {
   "cell_type": "code",
   "execution_count": 36,
   "metadata": {
    "pycharm": {
     "name": "#%%\n"
    }
   },
   "outputs": [
    {
     "name": "stderr",
     "output_type": "stream",
     "text": [
      "/home/marco/anaconda3/envs/bda/lib/python3.10/site-packages/arviz/stats/stats.py:1661: UserWarning: For one or more samples the posterior variance of the log predictive densities exceeds 0.4. This could be indication of WAIC starting to fail. \n",
      "See http://arxiv.org/abs/1507.04544 for details\n",
      "  warnings.warn(\n",
      "/home/marco/anaconda3/envs/bda/lib/python3.10/site-packages/arviz/stats/stats.py:1661: UserWarning: For one or more samples the posterior variance of the log predictive densities exceeds 0.4. This could be indication of WAIC starting to fail. \n",
      "See http://arxiv.org/abs/1507.04544 for details\n",
      "  warnings.warn(\n",
      "/home/marco/anaconda3/envs/bda/lib/python3.10/site-packages/arviz/stats/stats.py:1661: UserWarning: For one or more samples the posterior variance of the log predictive densities exceeds 0.4. This could be indication of WAIC starting to fail. \n",
      "See http://arxiv.org/abs/1507.04544 for details\n",
      "  warnings.warn(\n"
     ]
    },
    {
     "data": {
      "text/html": [
       "<div>\n",
       "<style scoped>\n",
       "    .dataframe tbody tr th:only-of-type {\n",
       "        vertical-align: middle;\n",
       "    }\n",
       "\n",
       "    .dataframe tbody tr th {\n",
       "        vertical-align: top;\n",
       "    }\n",
       "\n",
       "    .dataframe thead th {\n",
       "        text-align: right;\n",
       "    }\n",
       "</style>\n",
       "<table border=\"1\" class=\"dataframe\">\n",
       "  <thead>\n",
       "    <tr style=\"text-align: right;\">\n",
       "      <th></th>\n",
       "      <th>rank</th>\n",
       "      <th>waic</th>\n",
       "      <th>p_waic</th>\n",
       "      <th>d_waic</th>\n",
       "      <th>weight</th>\n",
       "      <th>se</th>\n",
       "      <th>dse</th>\n",
       "      <th>warning</th>\n",
       "      <th>waic_scale</th>\n",
       "    </tr>\n",
       "  </thead>\n",
       "  <tbody>\n",
       "    <tr>\n",
       "      <th>model_hierarchical</th>\n",
       "      <td>0</td>\n",
       "      <td>-126.423315</td>\n",
       "      <td>5.315624</td>\n",
       "      <td>0.000000</td>\n",
       "      <td>7.108143e-01</td>\n",
       "      <td>4.073132</td>\n",
       "      <td>0.000000</td>\n",
       "      <td>True</td>\n",
       "      <td>log</td>\n",
       "    </tr>\n",
       "    <tr>\n",
       "      <th>model_unpooled</th>\n",
       "      <td>1</td>\n",
       "      <td>-127.071123</td>\n",
       "      <td>7.227375</td>\n",
       "      <td>0.647808</td>\n",
       "      <td>2.891857e-01</td>\n",
       "      <td>3.226852</td>\n",
       "      <td>1.920457</td>\n",
       "      <td>True</td>\n",
       "      <td>log</td>\n",
       "    </tr>\n",
       "    <tr>\n",
       "      <th>model_pooled</th>\n",
       "      <td>2</td>\n",
       "      <td>-130.866384</td>\n",
       "      <td>1.937925</td>\n",
       "      <td>4.443070</td>\n",
       "      <td>2.220446e-16</td>\n",
       "      <td>4.173295</td>\n",
       "      <td>1.974489</td>\n",
       "      <td>True</td>\n",
       "      <td>log</td>\n",
       "    </tr>\n",
       "  </tbody>\n",
       "</table>\n",
       "</div>"
      ],
      "text/plain": [
       "                    rank        waic    p_waic    d_waic        weight  \\\n",
       "model_hierarchical     0 -126.423315  5.315624  0.000000  7.108143e-01   \n",
       "model_unpooled         1 -127.071123  7.227375  0.647808  2.891857e-01   \n",
       "model_pooled           2 -130.866384  1.937925  4.443070  2.220446e-16   \n",
       "\n",
       "                          se       dse  warning waic_scale  \n",
       "model_hierarchical  4.073132  0.000000     True        log  \n",
       "model_unpooled      3.226852  1.920457     True        log  \n",
       "model_pooled        4.173295  1.974489     True        log  "
      ]
     },
     "execution_count": 36,
     "metadata": {},
     "output_type": "execute_result"
    }
   ],
   "source": [
    "#with factory_pooled, factory_separate, factory_hierarchical:\n",
    "comp_df = az.compare({\"model_pooled\": trace_pooled,\n",
    "                      \"model_unpooled\": trace_unpooled,\n",
    "                      \"model_hierarchical\": trace_hierarchical},\n",
    "                      ic=\"waic\") # ic stands for \"information criterion\"\n",
    "comp_df"
   ]
  },
  {
   "cell_type": "code",
   "execution_count": 37,
   "metadata": {
    "pycharm": {
     "name": "#%%\n"
    }
   },
   "outputs": [
    {
     "data": {
      "image/png": "[encoded data removed]",
      "text/plain": [
       "<Figure size 600x300 with 1 Axes>"
      ]
     },
     "metadata": {},
     "output_type": "display_data"
    }
   ],
   "source": [
    "az.plot_compare(comp_df);"
   ]
  },
  {
   "cell_type": "markdown",
   "metadata": {},
   "source": [
    "## Posterior predictions of new measurements"
   ]
  },
  {
   "cell_type": "markdown",
   "metadata": {},
   "source": [
    "* Given the pooled model, make a prediction for a new measurement"
   ]
  },
  {
   "cell_type": "markdown",
   "metadata": {},
   "source": [
    "We can do it by adding a line in pymc3 corresponding to the prediction:"
   ]
  },
  {
   "cell_type": "code",
   "execution_count": 38,
   "metadata": {
    "scrolled": true
   },
   "outputs": [
    {
     "name": "stderr",
     "output_type": "stream",
     "text": [
      "Auto-assigning NUTS sampler...\n",
      "Initializing NUTS using jitter+adapt_diag...\n",
      "Multiprocess sampling (2 chains in 2 jobs)\n",
      "NUTS: [y_pred, global_sigma, global_mu]\n"
     ]
    },
    {
     "data": {
      "text/html": [
       "\n",
       "    <div>\n",
       "        <style>\n",
       "            /* Turns off some styling */\n",
       "            progress {\n",
       "                /* gets rid of default border in Firefox and Opera. */\n",
       "                border: none;\n",
       "                /* Needs to be in here for Safari polyfill so background images work as expected. */\n",
       "                background-size: auto;\n",
       "            }\n",
       "            .progress-bar-interrupted, .progress-bar-interrupted::-webkit-progress-bar {\n",
       "                background: #F44336;\n",
       "            }\n",
       "        </style>\n",
       "      <progress value='22000' class='' max='22000' style='width:300px; height:20px; vertical-align: middle;'></progress>\n",
       "      100.00% [22000/22000 00:11<00:00 Sampling 2 chains, 0 divergences]\n",
       "    </div>\n",
       "    "
      ],
      "text/plain": [
       "<IPython.core.display.HTML object>"
      ]
     },
     "metadata": {},
     "output_type": "display_data"
    },
    {
     "name": "stderr",
     "output_type": "stream",
     "text": [
      "Sampling 2 chains for 1_000 tune and 10_000 draw iterations (2_000 + 20_000 draws total) took 11 seconds.\n"
     ]
    }
   ],
   "source": [
    "with pm.Model() as model_pooled_with_pred:\n",
    "    \n",
    "    global_mu = pm.Normal('global_mu', mu=90, sd=15)\n",
    "    global_sigma = pm.HalfNormal('global_sigma', sd=30)\n",
    "    y = pm.Normal('y', mu=global_mu, sd=global_sigma, observed=df[\"quality\"])\n",
    "    \n",
    "    y_pred = pm.Normal(\"y_pred\", mu=global_mu, sigma=global_sigma)\n",
    "    \n",
    "    trace_pooled_with_pred = pm.sample(10_000, return_inferencedata=True)"
   ]
  },
  {
   "cell_type": "code",
   "execution_count": 39,
   "metadata": {},
   "outputs": [
    {
     "data": {
      "text/html": [
       "<div>\n",
       "<style scoped>\n",
       "    .dataframe tbody tr th:only-of-type {\n",
       "        vertical-align: middle;\n",
       "    }\n",
       "\n",
       "    .dataframe tbody tr th {\n",
       "        vertical-align: top;\n",
       "    }\n",
       "\n",
       "    .dataframe thead th {\n",
       "        text-align: right;\n",
       "    }\n",
       "</style>\n",
       "<table border=\"1\" class=\"dataframe\">\n",
       "  <thead>\n",
       "    <tr style=\"text-align: right;\">\n",
       "      <th></th>\n",
       "      <th>mean</th>\n",
       "      <th>sd</th>\n",
       "      <th>hdi_3%</th>\n",
       "      <th>hdi_97%</th>\n",
       "      <th>mcse_mean</th>\n",
       "      <th>mcse_sd</th>\n",
       "      <th>ess_bulk</th>\n",
       "      <th>ess_tail</th>\n",
       "      <th>r_hat</th>\n",
       "    </tr>\n",
       "  </thead>\n",
       "  <tbody>\n",
       "    <tr>\n",
       "      <th>global_mu</th>\n",
       "      <td>92.735</td>\n",
       "      <td>3.389</td>\n",
       "      <td>86.573</td>\n",
       "      <td>99.389</td>\n",
       "      <td>0.025</td>\n",
       "      <td>0.018</td>\n",
       "      <td>18041.0</td>\n",
       "      <td>13262.0</td>\n",
       "      <td>1.0</td>\n",
       "    </tr>\n",
       "    <tr>\n",
       "      <th>y_pred</th>\n",
       "      <td>92.725</td>\n",
       "      <td>19.402</td>\n",
       "      <td>55.604</td>\n",
       "      <td>128.710</td>\n",
       "      <td>0.138</td>\n",
       "      <td>0.100</td>\n",
       "      <td>19861.0</td>\n",
       "      <td>13766.0</td>\n",
       "      <td>1.0</td>\n",
       "    </tr>\n",
       "    <tr>\n",
       "      <th>global_sigma</th>\n",
       "      <td>18.655</td>\n",
       "      <td>2.569</td>\n",
       "      <td>14.061</td>\n",
       "      <td>23.450</td>\n",
       "      <td>0.019</td>\n",
       "      <td>0.013</td>\n",
       "      <td>19072.0</td>\n",
       "      <td>13462.0</td>\n",
       "      <td>1.0</td>\n",
       "    </tr>\n",
       "  </tbody>\n",
       "</table>\n",
       "</div>"
      ],
      "text/plain": [
       "                mean      sd  hdi_3%  hdi_97%  mcse_mean  mcse_sd  ess_bulk  \\\n",
       "global_mu     92.735   3.389  86.573   99.389      0.025    0.018   18041.0   \n",
       "y_pred        92.725  19.402  55.604  128.710      0.138    0.100   19861.0   \n",
       "global_sigma  18.655   2.569  14.061   23.450      0.019    0.013   19072.0   \n",
       "\n",
       "              ess_tail  r_hat  \n",
       "global_mu      13262.0    1.0  \n",
       "y_pred         13766.0    1.0  \n",
       "global_sigma   13462.0    1.0  "
      ]
     },
     "metadata": {},
     "output_type": "display_data"
    }
   ],
   "source": [
    "with model_pooled_with_pred:\n",
    "    display(az.summary(trace_pooled_with_pred)) # var_names='y_pred'"
   ]
  },
  {
   "cell_type": "markdown",
   "metadata": {},
   "source": [
    "Otherwise, we can play with the trace directly. For each sampled value of global_mu and global_sigma, we sample from\n",
    "N(global_mu, global_sigma)"
   ]
  },
  {
   "cell_type": "code",
   "execution_count": 40,
   "metadata": {},
   "outputs": [
    {
     "data": {
      "text/plain": [
       "(92.89312535356844, 19.315186966828193)"
      ]
     },
     "execution_count": 40,
     "metadata": {},
     "output_type": "execute_result"
    }
   ],
   "source": [
    "post_pooled = az.extract_dataset(trace_pooled.posterior)\n",
    "\n",
    "y_pred = np.zeros_like(post_pooled.global_mu.values)\n",
    "for idx in range(y_pred.shape[0]):\n",
    "    y_pred[idx] = scipy.stats.norm.rvs(loc=post_pooled.global_mu.values[idx],\n",
    "                                       scale=post_pooled.global_sigma.values[idx])\n",
    "    \n",
    "#y_pred = scipy.stats.norm.rvs(loc=post_pooled.global_mu.values,scale=post_pooled.global_sigma.values) # faster vectorized implementation!\n",
    "\n",
    "y_pred.mean(), y_pred.std() # similar to y_pred in the trace (note: there is randomness!)"
   ]
  },
  {
   "cell_type": "markdown",
   "metadata": {},
   "source": [
    "* Given the unpooled model, make a prediction for a new measurement of the machine M1"
   ]
  },
  {
   "cell_type": "code",
   "execution_count": 41,
   "metadata": {},
   "outputs": [
    {
     "name": "stderr",
     "output_type": "stream",
     "text": [
      "Auto-assigning NUTS sampler...\n",
      "Initializing NUTS using jitter+adapt_diag...\n",
      "Multiprocess sampling (2 chains in 2 jobs)\n",
      "NUTS: [y_M1, group_sigma, group_mu]\n"
     ]
    },
    {
     "data": {
      "text/html": [
       "\n",
       "    <div>\n",
       "        <style>\n",
       "            /* Turns off some styling */\n",
       "            progress {\n",
       "                /* gets rid of default border in Firefox and Opera. */\n",
       "                border: none;\n",
       "                /* Needs to be in here for Safari polyfill so background images work as expected. */\n",
       "                background-size: auto;\n",
       "            }\n",
       "            .progress-bar-interrupted, .progress-bar-interrupted::-webkit-progress-bar {\n",
       "                background: #F44336;\n",
       "            }\n",
       "        </style>\n",
       "      <progress value='22000' class='' max='22000' style='width:300px; height:20px; vertical-align: middle;'></progress>\n",
       "      100.00% [22000/22000 00:17<00:00 Sampling 2 chains, 1 divergences]\n",
       "    </div>\n",
       "    "
      ],
      "text/plain": [
       "<IPython.core.display.HTML object>"
      ]
     },
     "metadata": {},
     "output_type": "display_data"
    },
    {
     "name": "stderr",
     "output_type": "stream",
     "text": [
      "Sampling 2 chains for 1_000 tune and 10_000 draw iterations (2_000 + 20_000 draws total) took 17 seconds.\n",
      "There was 1 divergence after tuning. Increase `target_accept` or reparameterize.\n"
     ]
    }
   ],
   "source": [
    "with pm.Model() as model_unpooled_with_pred_M1:\n",
    "    group_mu = pm.Normal('group_mu', mu=90, sd=20, shape=n_machines)\n",
    "    group_sigma = pm.HalfNormal('group_sigma', sd=23, shape=n_machines)\n",
    "    y = pm.Normal('y', mu=group_mu[df[\"machine\"].cat.codes],\n",
    "                  sd=group_sigma[df[\"machine\"].cat.codes],\n",
    "                  observed=df[\"quality\"])\n",
    "    \n",
    "    y_M1_pred = pm.Normal('y_M1', mu=group_mu[0], sd=group_sigma[0])\n",
    "    \n",
    "    trace_unpooled_with_pred_M1 = pm.sample(10_000, return_inferencedata=True)\n"
   ]
  },
  {
   "cell_type": "code",
   "execution_count": 42,
   "metadata": {},
   "outputs": [
    {
     "data": {
      "text/html": [
       "<div>\n",
       "<style scoped>\n",
       "    .dataframe tbody tr th:only-of-type {\n",
       "        vertical-align: middle;\n",
       "    }\n",
       "\n",
       "    .dataframe tbody tr th {\n",
       "        vertical-align: top;\n",
       "    }\n",
       "\n",
       "    .dataframe thead th {\n",
       "        text-align: right;\n",
       "    }\n",
       "</style>\n",
       "<table border=\"1\" class=\"dataframe\">\n",
       "  <thead>\n",
       "    <tr style=\"text-align: right;\">\n",
       "      <th></th>\n",
       "      <th>mean</th>\n",
       "      <th>sd</th>\n",
       "      <th>hdi_3%</th>\n",
       "      <th>hdi_97%</th>\n",
       "      <th>mcse_mean</th>\n",
       "      <th>mcse_sd</th>\n",
       "      <th>ess_bulk</th>\n",
       "      <th>ess_tail</th>\n",
       "      <th>r_hat</th>\n",
       "    </tr>\n",
       "  </thead>\n",
       "  <tbody>\n",
       "    <tr>\n",
       "      <th>y_M1</th>\n",
       "      <td>78.551</td>\n",
       "      <td>25.348</td>\n",
       "      <td>31.195</td>\n",
       "      <td>128.325</td>\n",
       "      <td>0.191</td>\n",
       "      <td>0.143</td>\n",
       "      <td>18844.0</td>\n",
       "      <td>13268.0</td>\n",
       "      <td>1.0</td>\n",
       "    </tr>\n",
       "  </tbody>\n",
       "</table>\n",
       "</div>"
      ],
      "text/plain": [
       "        mean      sd  hdi_3%  hdi_97%  mcse_mean  mcse_sd  ess_bulk  ess_tail  \\\n",
       "y_M1  78.551  25.348  31.195  128.325      0.191    0.143   18844.0   13268.0   \n",
       "\n",
       "      r_hat  \n",
       "y_M1    1.0  "
      ]
     },
     "metadata": {},
     "output_type": "display_data"
    }
   ],
   "source": [
    "with model_unpooled_with_pred_M1:\n",
    "    display(az.summary(trace_unpooled_with_pred_M1, var_names=\"y_M1\"))"
   ]
  },
  {
   "cell_type": "code",
   "execution_count": 43,
   "metadata": {},
   "outputs": [
    {
     "data": {
      "text/plain": [
       "(78.52483265320352, 24.881456389917744)"
      ]
     },
     "execution_count": 43,
     "metadata": {},
     "output_type": "execute_result"
    }
   ],
   "source": [
    "post_unpooled = az.extract_dataset(trace_unpooled.posterior)\n",
    "y_M1_pred = scipy.stats.norm.rvs(loc=post_unpooled.group_mu[0].values,\n",
    "                                 scale=post_unpooled.group_sigma[0].values)\n",
    "y_M1_pred.mean(), y_M1_pred.std() # similar to y_pred in the trace (note: there is randomness!)"
   ]
  }
 ],
 "metadata": {
  "kernelspec": {
   "display_name": "Python 3 (ipykernel)",
   "language": "python",
   "name": "python3"
  },
  "language_info": {
   "codemirror_mode": {
    "name": "ipython",
    "version": 3
   },
   "file_extension": ".py",
   "mimetype": "text/x-python",
   "name": "python",
   "nbconvert_exporter": "python",
   "pygments_lexer": "ipython3",
   "version": "3.8.15"
  },
  "vscode": {
   "interpreter": {
    "hash": "221c891a34d53b6a976517fba14e87e2d44925797743ab4436332eb8ae3ca627"
   }
  }
 },
 "nbformat": 4,
 "nbformat_minor": 4
}
