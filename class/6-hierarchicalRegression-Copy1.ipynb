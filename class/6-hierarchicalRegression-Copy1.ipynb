{
 "cells": [
  {
   "cell_type": "code",
   "execution_count": 4,
   "metadata": {
    "slideshow": {
     "slide_type": "skip"
    }
   },
   "outputs": [],
   "source": [
    "%matplotlib inline\n",
    "import pymc3 as pm\n",
    "import numpy as np\n",
    "import scipy.stats as stats\n",
    "import pandas as pd\n",
    "import matplotlib.pyplot as plt\n",
    "import arviz as az\n",
    "from IPython.display import display, Markdown\n",
    "import seaborn as sns; sns.set_context('notebook')\n",
    "import warnings\n",
    "warnings.simplefilter(\"ignore\")\n",
    "az.style.use('arviz-darkgrid')\n",
    "np.random.seed(44)\n"
   ]
  },
  {
   "cell_type": "code",
   "execution_count": 5,
   "metadata": {
    "slideshow": {
     "slide_type": "skip"
    }
   },
   "outputs": [],
   "source": [
    "plt.rcParams['font.size'] = 15\n",
    "plt.rcParams['legend.fontsize'] = 'medium'\n",
    "plt.rcParams.update({\n",
    "    \"figure.figsize\": [8, 4],\n",
    "    'figure.constrained_layout.use': True,\n",
    "    'font.size': 14.0,\n",
    "    'hist.bins': 'auto',\n",
    "    'lines.linewidth': 3.0,\n",
    "    'lines.markeredgewidth': 2.0,\n",
    "    'lines.markerfacecolor': 'none',\n",
    "    'lines.markersize': 8.0, \n",
    "})"
   ]
  },
  {
   "cell_type": "markdown",
   "metadata": {
    "slideshow": {
     "slide_type": "slide"
    }
   },
   "source": [
    "# Hierarchical linear regression\n",
    "\n",
    "\n",
    "Giorgio Corani <br/>\n",
    "*Bayesian Data Analysis and Probabilistic Programming*\n",
    "<br/>\n",
    "<br/>\n",
    "``giorgio.corani@supsi.ch``\n",
    "\n",
    "\n",
    "\n"
   ]
  },
  {
   "cell_type": "markdown",
   "metadata": {
    "slideshow": {
     "slide_type": "slide"
    }
   },
   "source": [
    "# Based on..\n",
    "\n",
    "*  Chris Fonnesbeck, <a href=\"https://github.com/fonnesbeck/bayes_course_july2020\">Bayesian Computing Course</a>\n",
    "*  O. Martin, *Bayesian analysis with Python*, Ch. 3"
   ]
  },
  {
   "cell_type": "markdown",
   "metadata": {
    "slideshow": {
     "slide_type": "slide"
    }
   },
   "source": [
    "# Hierarchical regression\n",
    "\n",
    "* Hierarchical  regression is  a generalization of linear regression, which allows the  parameters to **vary by group**.\n",
    "\n",
    "\n",
    "* This allows modelling observations which are  *grouped*  (or *clustered*). "
   ]
  },
  {
   "cell_type": "markdown",
   "metadata": {
    "slideshow": {
     "slide_type": "slide"
    }
   },
   "source": [
    "# Hierarchical (or multilevel) modeling\n",
    "\n",
    "A *hierarchical regression* provides a compromise between:\n",
    "\n",
    "* the *pooled regression*, which fits a single regression by merging all observations; this is  excessively constrained; \n",
    "\n",
    "\n",
    "* the *unpooled regression*, which fits an independent regression for each cluster.  This is unreliable on cluster containing few observations and there is no generalization to unobserved groups."
   ]
  },
  {
   "cell_type": "markdown",
   "metadata": {
    "slideshow": {
     "slide_type": "slide"
    }
   },
   "source": [
    "# The radon data set (Gelman et al., 2007)\n",
    "\n",
    "<img src='img/how_radon_enters.jpg' width=400 align=\"center\" >"
   ]
  },
  {
   "cell_type": "markdown",
   "metadata": {
    "slideshow": {
     "slide_type": "slide"
    }
   },
   "source": [
    "# The radon data set (Gelman et al., 2007)\n",
    "\n",
    "\n",
    "\n",
    "* Radon  is a radioactive gas; it is  the highest cause of lung cancer in non-smokers.\n",
    "\n",
    "\n",
    "\n",
    "* Its level is  generally higher in the basement; moreover, its presence depends on the  type of soil."
   ]
  },
  {
   "cell_type": "markdown",
   "metadata": {
    "slideshow": {
     "slide_type": "slide"
    }
   },
   "source": [
    "# Radon contamination in Minnesota\n",
    "\n",
    "* We will model radon levels in Minnesota.\n",
    "\n",
    "\n",
    "* For each measure we know:\n",
    "    * the floor (basement or  first floor) \n",
    "    * the county (think of a county as a region)"
   ]
  },
  {
   "cell_type": "markdown",
   "metadata": {
    "slideshow": {
     "slide_type": "slide"
    }
   },
   "source": [
    "### Data organization"
   ]
  },
  {
   "cell_type": "code",
   "execution_count": 6,
   "metadata": {
    "slideshow": {
     "slide_type": "slide"
    }
   },
   "outputs": [],
   "source": [
    "# Import radon data, 919 rows\n",
    "radon_data = pd.read_csv('data/radon.csv', index_col=0)\n",
    "\n",
    " \n",
    "# Below we generate the standardized X and Y ( floor_std ,  log_radon_std) and for each measure\n",
    "# a numerical index represeting  the county . There is a different number of measures for each county.\n",
    "\n",
    "#list of  counties in Minnesota (85 different counties)\n",
    "counties = radon_data.county.unique()\n",
    "n_counties = counties.shape[0]\n",
    "\n",
    "# numerical id of the county of each measure (919 rows)\n",
    "county = radon_data.county_code.values\n",
    "# code and name of each county\n",
    "county_lookup = dict(zip(counties, np.arange(n_counties)))\n",
    "\n",
    "# explanatory variable: the floor: 0 (ground level) or 1 (first floor).\n",
    "floor = radon_data.floor.values\n",
    "\n",
    "# y \n",
    "log_radon = radon_data.log_radon.values"
   ]
  },
  {
   "cell_type": "code",
   "execution_count": 7,
   "metadata": {},
   "outputs": [
    {
     "data": {
      "text/html": [
       "<div>\n",
       "<style scoped>\n",
       "    .dataframe tbody tr th:only-of-type {\n",
       "        vertical-align: middle;\n",
       "    }\n",
       "\n",
       "    .dataframe tbody tr th {\n",
       "        vertical-align: top;\n",
       "    }\n",
       "\n",
       "    .dataframe thead th {\n",
       "        text-align: right;\n",
       "    }\n",
       "</style>\n",
       "<table border=\"1\" class=\"dataframe\">\n",
       "  <thead>\n",
       "    <tr style=\"text-align: right;\">\n",
       "      <th></th>\n",
       "      <th>idnum</th>\n",
       "      <th>state</th>\n",
       "      <th>state2</th>\n",
       "      <th>stfips</th>\n",
       "      <th>zip</th>\n",
       "      <th>region</th>\n",
       "      <th>typebldg</th>\n",
       "      <th>floor</th>\n",
       "      <th>room</th>\n",
       "      <th>basement</th>\n",
       "      <th>...</th>\n",
       "      <th>pcterr</th>\n",
       "      <th>adjwt</th>\n",
       "      <th>dupflag</th>\n",
       "      <th>zipflag</th>\n",
       "      <th>cntyfips</th>\n",
       "      <th>county</th>\n",
       "      <th>fips</th>\n",
       "      <th>Uppm</th>\n",
       "      <th>county_code</th>\n",
       "      <th>log_radon</th>\n",
       "    </tr>\n",
       "  </thead>\n",
       "  <tbody>\n",
       "    <tr>\n",
       "      <th>0</th>\n",
       "      <td>5081.0</td>\n",
       "      <td>MN</td>\n",
       "      <td>MN</td>\n",
       "      <td>27.0</td>\n",
       "      <td>55735</td>\n",
       "      <td>5.0</td>\n",
       "      <td>1.0</td>\n",
       "      <td>1.0</td>\n",
       "      <td>3.0</td>\n",
       "      <td>N</td>\n",
       "      <td>...</td>\n",
       "      <td>9.7</td>\n",
       "      <td>1146.499190</td>\n",
       "      <td>1.0</td>\n",
       "      <td>0.0</td>\n",
       "      <td>1.0</td>\n",
       "      <td>AITKIN</td>\n",
       "      <td>27001.0</td>\n",
       "      <td>0.502054</td>\n",
       "      <td>0</td>\n",
       "      <td>0.832909</td>\n",
       "    </tr>\n",
       "    <tr>\n",
       "      <th>1</th>\n",
       "      <td>5082.0</td>\n",
       "      <td>MN</td>\n",
       "      <td>MN</td>\n",
       "      <td>27.0</td>\n",
       "      <td>55748</td>\n",
       "      <td>5.0</td>\n",
       "      <td>1.0</td>\n",
       "      <td>0.0</td>\n",
       "      <td>4.0</td>\n",
       "      <td>Y</td>\n",
       "      <td>...</td>\n",
       "      <td>14.5</td>\n",
       "      <td>471.366223</td>\n",
       "      <td>0.0</td>\n",
       "      <td>0.0</td>\n",
       "      <td>1.0</td>\n",
       "      <td>AITKIN</td>\n",
       "      <td>27001.0</td>\n",
       "      <td>0.502054</td>\n",
       "      <td>0</td>\n",
       "      <td>0.832909</td>\n",
       "    </tr>\n",
       "    <tr>\n",
       "      <th>2</th>\n",
       "      <td>5083.0</td>\n",
       "      <td>MN</td>\n",
       "      <td>MN</td>\n",
       "      <td>27.0</td>\n",
       "      <td>55748</td>\n",
       "      <td>5.0</td>\n",
       "      <td>1.0</td>\n",
       "      <td>0.0</td>\n",
       "      <td>4.0</td>\n",
       "      <td>Y</td>\n",
       "      <td>...</td>\n",
       "      <td>9.6</td>\n",
       "      <td>433.316718</td>\n",
       "      <td>0.0</td>\n",
       "      <td>0.0</td>\n",
       "      <td>1.0</td>\n",
       "      <td>AITKIN</td>\n",
       "      <td>27001.0</td>\n",
       "      <td>0.502054</td>\n",
       "      <td>0</td>\n",
       "      <td>1.098612</td>\n",
       "    </tr>\n",
       "    <tr>\n",
       "      <th>3</th>\n",
       "      <td>5084.0</td>\n",
       "      <td>MN</td>\n",
       "      <td>MN</td>\n",
       "      <td>27.0</td>\n",
       "      <td>56469</td>\n",
       "      <td>5.0</td>\n",
       "      <td>1.0</td>\n",
       "      <td>0.0</td>\n",
       "      <td>4.0</td>\n",
       "      <td>Y</td>\n",
       "      <td>...</td>\n",
       "      <td>24.3</td>\n",
       "      <td>461.623670</td>\n",
       "      <td>0.0</td>\n",
       "      <td>0.0</td>\n",
       "      <td>1.0</td>\n",
       "      <td>AITKIN</td>\n",
       "      <td>27001.0</td>\n",
       "      <td>0.502054</td>\n",
       "      <td>0</td>\n",
       "      <td>0.095310</td>\n",
       "    </tr>\n",
       "    <tr>\n",
       "      <th>4</th>\n",
       "      <td>5085.0</td>\n",
       "      <td>MN</td>\n",
       "      <td>MN</td>\n",
       "      <td>27.0</td>\n",
       "      <td>55011</td>\n",
       "      <td>3.0</td>\n",
       "      <td>1.0</td>\n",
       "      <td>0.0</td>\n",
       "      <td>4.0</td>\n",
       "      <td>Y</td>\n",
       "      <td>...</td>\n",
       "      <td>13.8</td>\n",
       "      <td>433.316718</td>\n",
       "      <td>0.0</td>\n",
       "      <td>0.0</td>\n",
       "      <td>3.0</td>\n",
       "      <td>ANOKA</td>\n",
       "      <td>27003.0</td>\n",
       "      <td>0.428565</td>\n",
       "      <td>1</td>\n",
       "      <td>1.163151</td>\n",
       "    </tr>\n",
       "    <tr>\n",
       "      <th>...</th>\n",
       "      <td>...</td>\n",
       "      <td>...</td>\n",
       "      <td>...</td>\n",
       "      <td>...</td>\n",
       "      <td>...</td>\n",
       "      <td>...</td>\n",
       "      <td>...</td>\n",
       "      <td>...</td>\n",
       "      <td>...</td>\n",
       "      <td>...</td>\n",
       "      <td>...</td>\n",
       "      <td>...</td>\n",
       "      <td>...</td>\n",
       "      <td>...</td>\n",
       "      <td>...</td>\n",
       "      <td>...</td>\n",
       "      <td>...</td>\n",
       "      <td>...</td>\n",
       "      <td>...</td>\n",
       "      <td>...</td>\n",
       "      <td>...</td>\n",
       "    </tr>\n",
       "    <tr>\n",
       "      <th>914</th>\n",
       "      <td>5995.0</td>\n",
       "      <td>MN</td>\n",
       "      <td>MN</td>\n",
       "      <td>27.0</td>\n",
       "      <td>55363</td>\n",
       "      <td>5.0</td>\n",
       "      <td>1.0</td>\n",
       "      <td>0.0</td>\n",
       "      <td>4.0</td>\n",
       "      <td>Y</td>\n",
       "      <td>...</td>\n",
       "      <td>4.5</td>\n",
       "      <td>1146.499190</td>\n",
       "      <td>0.0</td>\n",
       "      <td>0.0</td>\n",
       "      <td>171.0</td>\n",
       "      <td>WRIGHT</td>\n",
       "      <td>27171.0</td>\n",
       "      <td>0.913909</td>\n",
       "      <td>83</td>\n",
       "      <td>1.871802</td>\n",
       "    </tr>\n",
       "    <tr>\n",
       "      <th>915</th>\n",
       "      <td>5996.0</td>\n",
       "      <td>MN</td>\n",
       "      <td>MN</td>\n",
       "      <td>27.0</td>\n",
       "      <td>55376</td>\n",
       "      <td>5.0</td>\n",
       "      <td>1.0</td>\n",
       "      <td>0.0</td>\n",
       "      <td>7.0</td>\n",
       "      <td>Y</td>\n",
       "      <td>...</td>\n",
       "      <td>8.3</td>\n",
       "      <td>1105.956867</td>\n",
       "      <td>0.0</td>\n",
       "      <td>0.0</td>\n",
       "      <td>171.0</td>\n",
       "      <td>WRIGHT</td>\n",
       "      <td>27171.0</td>\n",
       "      <td>0.913909</td>\n",
       "      <td>83</td>\n",
       "      <td>1.526056</td>\n",
       "    </tr>\n",
       "    <tr>\n",
       "      <th>916</th>\n",
       "      <td>5997.0</td>\n",
       "      <td>MN</td>\n",
       "      <td>MN</td>\n",
       "      <td>27.0</td>\n",
       "      <td>55376</td>\n",
       "      <td>5.0</td>\n",
       "      <td>1.0</td>\n",
       "      <td>0.0</td>\n",
       "      <td>4.0</td>\n",
       "      <td>Y</td>\n",
       "      <td>...</td>\n",
       "      <td>5.2</td>\n",
       "      <td>1214.922779</td>\n",
       "      <td>0.0</td>\n",
       "      <td>0.0</td>\n",
       "      <td>171.0</td>\n",
       "      <td>WRIGHT</td>\n",
       "      <td>27171.0</td>\n",
       "      <td>0.913909</td>\n",
       "      <td>83</td>\n",
       "      <td>1.629241</td>\n",
       "    </tr>\n",
       "    <tr>\n",
       "      <th>917</th>\n",
       "      <td>5998.0</td>\n",
       "      <td>MN</td>\n",
       "      <td>MN</td>\n",
       "      <td>27.0</td>\n",
       "      <td>56297</td>\n",
       "      <td>5.0</td>\n",
       "      <td>1.0</td>\n",
       "      <td>0.0</td>\n",
       "      <td>4.0</td>\n",
       "      <td>Y</td>\n",
       "      <td>...</td>\n",
       "      <td>9.6</td>\n",
       "      <td>1177.377355</td>\n",
       "      <td>0.0</td>\n",
       "      <td>0.0</td>\n",
       "      <td>173.0</td>\n",
       "      <td>YELLOW MEDICINE</td>\n",
       "      <td>27173.0</td>\n",
       "      <td>1.426590</td>\n",
       "      <td>84</td>\n",
       "      <td>1.335001</td>\n",
       "    </tr>\n",
       "    <tr>\n",
       "      <th>918</th>\n",
       "      <td>5999.0</td>\n",
       "      <td>MN</td>\n",
       "      <td>MN</td>\n",
       "      <td>27.0</td>\n",
       "      <td>56297</td>\n",
       "      <td>5.0</td>\n",
       "      <td>1.0</td>\n",
       "      <td>0.0</td>\n",
       "      <td>4.0</td>\n",
       "      <td>Y</td>\n",
       "      <td>...</td>\n",
       "      <td>8.0</td>\n",
       "      <td>1214.922779</td>\n",
       "      <td>0.0</td>\n",
       "      <td>0.0</td>\n",
       "      <td>173.0</td>\n",
       "      <td>YELLOW MEDICINE</td>\n",
       "      <td>27173.0</td>\n",
       "      <td>1.426590</td>\n",
       "      <td>84</td>\n",
       "      <td>1.098612</td>\n",
       "    </tr>\n",
       "  </tbody>\n",
       "</table>\n",
       "<p>919 rows × 29 columns</p>\n",
       "</div>"
      ],
      "text/plain": [
       "      idnum state state2  stfips    zip  region  typebldg  floor  room  \\\n",
       "0    5081.0    MN     MN    27.0  55735     5.0       1.0    1.0   3.0   \n",
       "1    5082.0    MN     MN    27.0  55748     5.0       1.0    0.0   4.0   \n",
       "2    5083.0    MN     MN    27.0  55748     5.0       1.0    0.0   4.0   \n",
       "3    5084.0    MN     MN    27.0  56469     5.0       1.0    0.0   4.0   \n",
       "4    5085.0    MN     MN    27.0  55011     3.0       1.0    0.0   4.0   \n",
       "..      ...   ...    ...     ...    ...     ...       ...    ...   ...   \n",
       "914  5995.0    MN     MN    27.0  55363     5.0       1.0    0.0   4.0   \n",
       "915  5996.0    MN     MN    27.0  55376     5.0       1.0    0.0   7.0   \n",
       "916  5997.0    MN     MN    27.0  55376     5.0       1.0    0.0   4.0   \n",
       "917  5998.0    MN     MN    27.0  56297     5.0       1.0    0.0   4.0   \n",
       "918  5999.0    MN     MN    27.0  56297     5.0       1.0    0.0   4.0   \n",
       "\n",
       "    basement  ... pcterr        adjwt  dupflag  zipflag  cntyfips  \\\n",
       "0          N  ...    9.7  1146.499190      1.0      0.0       1.0   \n",
       "1          Y  ...   14.5   471.366223      0.0      0.0       1.0   \n",
       "2          Y  ...    9.6   433.316718      0.0      0.0       1.0   \n",
       "3          Y  ...   24.3   461.623670      0.0      0.0       1.0   \n",
       "4          Y  ...   13.8   433.316718      0.0      0.0       3.0   \n",
       "..       ...  ...    ...          ...      ...      ...       ...   \n",
       "914        Y  ...    4.5  1146.499190      0.0      0.0     171.0   \n",
       "915        Y  ...    8.3  1105.956867      0.0      0.0     171.0   \n",
       "916        Y  ...    5.2  1214.922779      0.0      0.0     171.0   \n",
       "917        Y  ...    9.6  1177.377355      0.0      0.0     173.0   \n",
       "918        Y  ...    8.0  1214.922779      0.0      0.0     173.0   \n",
       "\n",
       "              county     fips      Uppm  county_code  log_radon  \n",
       "0             AITKIN  27001.0  0.502054            0   0.832909  \n",
       "1             AITKIN  27001.0  0.502054            0   0.832909  \n",
       "2             AITKIN  27001.0  0.502054            0   1.098612  \n",
       "3             AITKIN  27001.0  0.502054            0   0.095310  \n",
       "4              ANOKA  27003.0  0.428565            1   1.163151  \n",
       "..               ...      ...       ...          ...        ...  \n",
       "914           WRIGHT  27171.0  0.913909           83   1.871802  \n",
       "915           WRIGHT  27171.0  0.913909           83   1.526056  \n",
       "916           WRIGHT  27171.0  0.913909           83   1.629241  \n",
       "917  YELLOW MEDICINE  27173.0  1.426590           84   1.335001  \n",
       "918  YELLOW MEDICINE  27173.0  1.426590           84   1.098612  \n",
       "\n",
       "[919 rows x 29 columns]"
      ]
     },
     "execution_count": 7,
     "metadata": {},
     "output_type": "execute_result"
    }
   ],
   "source": [
    "radon_data"
   ]
  },
  {
   "cell_type": "raw",
   "metadata": {},
   "source": []
  },
  {
   "cell_type": "code",
   "execution_count": 4,
   "metadata": {
    "slideshow": {
     "slide_type": "slide"
    }
   },
   "outputs": [
    {
     "data": {
      "image/png": "[encoded data removed]",
      "text/plain": [
       "<Figure size 800x400 with 1 Axes>"
      ]
     },
     "metadata": {},
     "output_type": "display_data"
    }
   ],
   "source": [
    "#Distribution of radon levels in MN (log scale):\n",
    "\n",
    "sns.histplot(log_radon);"
   ]
  },
  {
   "cell_type": "code",
   "execution_count": 5,
   "metadata": {
    "slideshow": {
     "slide_type": "slide"
    }
   },
   "outputs": [
    {
     "data": {
      "image/png": "[encoded data removed]",
      "text/plain": [
       "<Figure size 800x400 with 1 Axes>"
      ]
     },
     "metadata": {},
     "output_type": "display_data"
    }
   ],
   "source": [
    "#as floor takes only 0 and 1 as values, we have data organized into two columns \n",
    "#The radon level is higher in the basement (floor = 0) than in the first floor (floor = 1).\n",
    "sns.scatterplot(floor, log_radon);"
   ]
  },
  {
   "cell_type": "markdown",
   "metadata": {
    "slideshow": {
     "slide_type": "slide"
    }
   },
   "source": [
    "# Pooled regression\n",
    "\n",
    "A regression model which ignores the county:\n",
    "\n",
    "$$Y \\sim N( \\alpha + \\beta X, \\sigma)$$\n",
    "\n",
    "\n",
    "* $Y$: log-radon (919 measures)\n",
    "\n",
    "* $X$: floor (1 or 0)\n",
    "\n",
    "* $\\alpha$ : intercept.  (on  centered data, it represents the mean log-radon in Minnesota). \n"
   ]
  },
  {
   "cell_type": "markdown",
   "metadata": {
    "slideshow": {
     "slide_type": "slide"
    }
   },
   "source": [
    "# Pooled regression \n",
    "\n",
    "* We use the centered covariate  $X_c = X - \\bar{x}$\n",
    "\n",
    "\n",
    "* We have no prior knowledge and thus we use fall back to  weakly informative, data-dependent, priors:\n",
    "\n",
    "\\begin{align}\n",
    "Y  &\\sim N( \\alpha_c + \\beta X_c,  \\sigma) && \\text{likelihood}\\\\\n",
    "\\alpha &\\sim N(\\bar{y},2 s_y) && \\text{prior on the intercept} \\\\\n",
    "\\beta  & \\sim N (0,2.5 \\frac{s_y}{s_x})  && \\text{prior on the slope} \\\\\n",
    "\\sigma &\\sim \\text{HalfNormal}(0,1.5 s_y )&& \\text{prior on the dev std } \\\\\n",
    "\\end{align}"
   ]
  },
  {
   "cell_type": "markdown",
   "metadata": {
    "slideshow": {
     "slide_type": "slide"
    }
   },
   "source": [
    "# Unpooled regression \n",
    "\n",
    "\n",
    "$$ Y \\sim N( \\alpha_{\\text{county}[i]} + \\beta X, \\sigma) $$\n",
    "\n",
    "\n",
    "* $\\alpha_{\\text{county}[i]}$ : the intercept for the county where the $i$-th observation has been made (think of  `county` as an array containing the county code of each measure)\n",
    "\n",
    "\n",
    "\n",
    "*  For each county we have a different independent   intercept $\\alpha_1, \\alpha_2, .. \\alpha_j ...\\alpha_{85}$ \n",
    "\n",
    "\n"
   ]
  },
  {
   "cell_type": "markdown",
   "metadata": {
    "slideshow": {
     "slide_type": "slide"
    }
   },
   "source": [
    "# Unpooled regression\n",
    "\n",
    "\n",
    "$$ Y \\sim N( \\alpha_{\\text{county}[i]} + \\beta X, \\sigma) $$\n",
    "\n",
    "* The slope $\\beta$ is equal for all counties; we assume that the difference between floor and basement does not depend on the county.\n",
    "\n"
   ]
  },
  {
   "cell_type": "markdown",
   "metadata": {
    "slideshow": {
     "slide_type": "slide"
    }
   },
   "source": [
    "# Unpooled regression\n",
    "\n",
    "\\begin{align}\n",
    "Y  &\\sim N( \\alpha_{\\text{county}} + \\beta X_c,  \\sigma) && \\text{likelihood}\\\\\n",
    "\\alpha_j &\\sim N(\\bar{y},2 s_y) \\,\\, j=1,2..., 85&& \\text{prior on the intercept} \\\\\n",
    "\\beta & \\sim N (0,2.5 \\frac{s_y}{s_x})  && \\text{prior on the slope} \\\\\n",
    "\\sigma &\\sim \\text{HalfNormal}(0,1.5 s_y) && \\text{prior on the dev std} \\\\\n",
    "\\end{align}"
   ]
  },
  {
   "cell_type": "markdown",
   "metadata": {
    "slideshow": {
     "slide_type": "slide"
    }
   },
   "source": [
    "# Discussion\n",
    "\n",
    "* The pooled model assumes  all observations to be samples from the same process,  ignoring the  county.\n",
    "\n",
    "\n",
    "* The unpooled model learns from scratch the intercept (baseline level) of every county, without transferring any information between the different counties."
   ]
  },
  {
   "cell_type": "markdown",
   "metadata": {
    "slideshow": {
     "slide_type": "slide"
    }
   },
   "source": [
    "# Implementation"
   ]
  },
  {
   "cell_type": "code",
   "execution_count": 6,
   "metadata": {
    "slideshow": {
     "slide_type": "slide"
    }
   },
   "outputs": [],
   "source": [
    "#implementation of the pooled model\n",
    "\n",
    "#centering is needed to have effective sampling\n",
    "floor_c  = (floor - floor.mean())\n",
    "mu_y    = log_radon.mean()\n",
    "s_y        = log_radon.std()\n",
    "s_x        = floor_c.std()\n",
    "\n",
    "with pm.Model() as pooled_model:\n",
    "\n",
    "    alpha  = pm.Normal('alpha', mu= mu_y,  sigma= 2 * s_y)\n",
    "    beta    = pm.Normal('beta', mu=0,  sigma= 2.5 * s_y/s_x)\n",
    "    sigma = pm.HalfNormal('sigma', 1.5 * s_y)\n",
    "    y          = pm.Normal('y', alpha + beta * floor_c, sigma, observed=log_radon)\n"
   ]
  },
  {
   "cell_type": "code",
   "execution_count": 7,
   "metadata": {
    "scrolled": true,
    "slideshow": {
     "slide_type": "slide"
    }
   },
   "outputs": [
    {
     "name": "stderr",
     "output_type": "stream",
     "text": [
      "Auto-assigning NUTS sampler...\n",
      "Initializing NUTS using jitter+adapt_diag...\n",
      "Multiprocess sampling (4 chains in 4 jobs)\n",
      "NUTS: [sigma, beta, alpha]\n"
     ]
    },
    {
     "data": {
      "text/html": [
       "\n",
       "<style>\n",
       "    /* Turns off some styling */\n",
       "    progress {\n",
       "        /* gets rid of default border in Firefox and Opera. */\n",
       "        border: none;\n",
       "        /* Needs to be in here for Safari polyfill so background images work as expected. */\n",
       "        background-size: auto;\n",
       "    }\n",
       "    .progress-bar-interrupted, .progress-bar-interrupted::-webkit-progress-bar {\n",
       "        background: #F44336;\n",
       "    }\n",
       "</style>\n"
      ],
      "text/plain": [
       "<IPython.core.display.HTML object>"
      ]
     },
     "metadata": {},
     "output_type": "display_data"
    },
    {
     "data": {
      "text/html": [
       "\n",
       "    <div>\n",
       "      <progress value='8000' class='' max='8000' style='width:300px; height:20px; vertical-align: middle;'></progress>\n",
       "      100.00% [8000/8000 00:03<00:00 Sampling 4 chains, 0 divergences]\n",
       "    </div>\n",
       "    "
      ],
      "text/plain": [
       "<IPython.core.display.HTML object>"
      ]
     },
     "metadata": {},
     "output_type": "display_data"
    },
    {
     "name": "stderr",
     "output_type": "stream",
     "text": [
      "/Users/giorgio/opt/anaconda3/envs/bda/lib/python3.9/site-packages/scipy/stats/_continuous_distns.py:624: RuntimeWarning: overflow encountered in _beta_ppf\n",
      "  return _boost._beta_ppf(q, a, b)\n",
      "/Users/giorgio/opt/anaconda3/envs/bda/lib/python3.9/site-packages/scipy/stats/_continuous_distns.py:624: RuntimeWarning: overflow encountered in _beta_ppf\n",
      "  return _boost._beta_ppf(q, a, b)\n",
      "/Users/giorgio/opt/anaconda3/envs/bda/lib/python3.9/site-packages/scipy/stats/_continuous_distns.py:624: RuntimeWarning: overflow encountered in _beta_ppf\n",
      "  return _boost._beta_ppf(q, a, b)\n",
      "Sampling 4 chains for 1_000 tune and 1_000 draw iterations (4_000 + 4_000 draws total) took 17 seconds.\n"
     ]
    }
   ],
   "source": [
    "with pooled_model:\n",
    "    pooled_trace = pm.sample(return_inferencedata=True)"
   ]
  },
  {
   "cell_type": "code",
   "execution_count": 8,
   "metadata": {
    "slideshow": {
     "slide_type": "slide"
    }
   },
   "outputs": [
    {
     "data": {
      "image/png": "[encoded data removed]",
      "text/plain": [
       "<Figure size 800x400 with 1 Axes>"
      ]
     },
     "metadata": {},
     "output_type": "display_data"
    }
   ],
   "source": [
    "# posterior mean of the parameters\n",
    "post_pooled = az.extract_dataset(pooled_trace)\n",
    "a_pooled      =  post_pooled.alpha.values.mean()\n",
    "b_pooled      = post_pooled.beta.values.mean()\n",
    "\n",
    "plt.scatter(floor_c, log_radon)\n",
    "xvals = np.linspace(-1, 2.5)\n",
    "plt.plot(xvals, b_pooled * xvals + a_pooled, 'r--')\n",
    "plt.xlabel('floor (centered)')\n",
    "plt.ylabel('log_radon (standardized)');"
   ]
  },
  {
   "cell_type": "markdown",
   "metadata": {
    "slideshow": {
     "slide_type": "slide"
    }
   },
   "source": [
    " # Implementing  the unpooled model"
   ]
  },
  {
   "cell_type": "code",
   "execution_count": 9,
   "metadata": {
    "slideshow": {
     "slide_type": "slide"
    }
   },
   "outputs": [],
   "source": [
    "with pm.Model() as unpooled_model:\n",
    "    # a different intercept for each county\n",
    "    alpha = pm.Normal('alpha', mu=mu_y, sigma=2 * s_y, shape=n_counties)\n",
    "\n",
    "    # the slope is the same for all counties\n",
    "    beta           = pm.Normal('beta', mu=0, sigma=2 * s_y/s_x)\n",
    "    sigma_y   = pm.HalfNormal('sigma_y', 1.5 * s_y)\n",
    "    \n",
    "    #county is a vector containing the county index  for each measure.\n",
    "    mu = alpha[county] + beta * floor_c\n",
    "    \n",
    "    y = pm.Normal('y', mu, sigma=sigma_y, observed=log_radon)\n",
    "    "
   ]
  },
  {
   "cell_type": "code",
   "execution_count": 10,
   "metadata": {
    "slideshow": {
     "slide_type": "slide"
    }
   },
   "outputs": [
    {
     "name": "stderr",
     "output_type": "stream",
     "text": [
      "Auto-assigning NUTS sampler...\n",
      "Initializing NUTS using jitter+adapt_diag...\n",
      "Multiprocess sampling (4 chains in 4 jobs)\n",
      "NUTS: [sigma_y, beta, alpha]\n"
     ]
    },
    {
     "data": {
      "text/html": [
       "\n",
       "<style>\n",
       "    /* Turns off some styling */\n",
       "    progress {\n",
       "        /* gets rid of default border in Firefox and Opera. */\n",
       "        border: none;\n",
       "        /* Needs to be in here for Safari polyfill so background images work as expected. */\n",
       "        background-size: auto;\n",
       "    }\n",
       "    .progress-bar-interrupted, .progress-bar-interrupted::-webkit-progress-bar {\n",
       "        background: #F44336;\n",
       "    }\n",
       "</style>\n"
      ],
      "text/plain": [
       "<IPython.core.display.HTML object>"
      ]
     },
     "metadata": {},
     "output_type": "display_data"
    },
    {
     "data": {
      "text/html": [
       "\n",
       "    <div>\n",
       "      <progress value='8000' class='' max='8000' style='width:300px; height:20px; vertical-align: middle;'></progress>\n",
       "      100.00% [8000/8000 00:05<00:00 Sampling 4 chains, 0 divergences]\n",
       "    </div>\n",
       "    "
      ],
      "text/plain": [
       "<IPython.core.display.HTML object>"
      ]
     },
     "metadata": {},
     "output_type": "display_data"
    },
    {
     "name": "stderr",
     "output_type": "stream",
     "text": [
      "Sampling 4 chains for 1_000 tune and 1_000 draw iterations (4_000 + 4_000 draws total) took 18 seconds.\n"
     ]
    }
   ],
   "source": [
    "with unpooled_model:\n",
    "    unpooled_trace = pm.sample(return_inferencedata=True)"
   ]
  },
  {
   "cell_type": "markdown",
   "metadata": {
    "slideshow": {
     "slide_type": "slide"
    }
   },
   "source": [
    "## Comparing the pooled and unpooled model"
   ]
  },
  {
   "cell_type": "code",
   "execution_count": 11,
   "metadata": {
    "slideshow": {
     "slide_type": "slide"
    }
   },
   "outputs": [
    {
     "data": {
      "image/png": "[encoded data removed]",
      "text/plain": [
       "<Figure size 1200x600 with 8 Axes>"
      ]
     },
     "metadata": {},
     "output_type": "display_data"
    }
   ],
   "source": [
    "#The code below shows the pooled and unpooled model for some sample counties.\n",
    "sample_counties = ('LAC QUI PARLE', 'AITKIN', 'KOOCHICHING', 'DOUGLAS', 'CLAY', 'STEARNS', 'RAMSEY', 'ST LOUIS')\n",
    "fig, axes = plt.subplots(2, 4, figsize=(12, 6), sharey=True, sharex=True)\n",
    "axes = axes.ravel()\n",
    "\n",
    "#slope of the unpooled model (posterior mean)\n",
    "unpooled_post = az.extract_dataset(unpooled_trace)\n",
    "beta_unpooled = unpooled_post.beta.values.mean()\n",
    "\n",
    "# intercept of the unpooled model (posterior mean): an array, one element for each county.\n",
    "#alpha_unpooled = pd.Series(unpooled_trace['alpha'].mean(axis=0), index=counties)\n",
    "alpha_unpooled = pd.Series(unpooled_post.alpha.values.mean(axis=1), index=counties)\n",
    "\n",
    "for i,c in enumerate(sample_counties):\n",
    "    #select the subset of observation referring to the specific county\n",
    "    y = log_radon[radon_data.county==c]\n",
    "    x = floor_c[radon_data.county==c]\n",
    "    axes[i].scatter(x + np.random.randn(len(x))*0.01, y, alpha=0.4)\n",
    "    \n",
    "\n",
    "    # Plot both models and data\n",
    "    xvals = np.linspace(floor_c.min(), floor_c.max() )\n",
    "    # Unpooled model\n",
    "    axes[i].plot(xvals,  alpha_unpooled[c] + beta_unpooled * xvals,  label=\"unpooled\" )\n",
    "    axes[i].plot(xvals,  a_pooled + b_pooled * xvals, 'r--', label=\"pooled\")\n",
    "    axes[i].set_xticks([floor_c.min(), floor_c.max()])\n",
    "    axes[i].set_xticklabels(['basement', '1st floor'])\n",
    "    axes[i].set_ylim(-3 ,3)\n",
    "    axes[i].set_title(c)\n",
    "    if not i%2: axes[i].set_ylabel('log radon  (c_ed)')\n",
    "    axes[0].legend()\n",
    "\n",
    "plt.savefig('img/pooled_unpooled.png')"
   ]
  },
  {
   "cell_type": "markdown",
   "metadata": {
    "slideshow": {
     "slide_type": "slide"
    }
   },
   "source": [
    "<img src='img/pooled_unpooled.png' width=1000 align=\"center\" >\n",
    "\n",
    "* The pooled model (red) is fixed and cannot  identify high-radon or low-radon counties\n",
    "\n",
    "*  On the other hand, the  estimates of the unpooled models (blue)  for countries with few data, such as  LAC QUI PARLE,  are unreliable."
   ]
  },
  {
   "cell_type": "markdown",
   "metadata": {
    "slideshow": {
     "slide_type": "slide"
    }
   },
   "source": [
    "# Hierarchical regression\n",
    "\n",
    "\n",
    "*   A different intercept for each county, modeling also the population of  intercepts.\n",
    "\n",
    "\n",
    "* This is referred to as a  *varying intercept* model.\n",
    "\n",
    "\n",
    "* Its estimates are a compromise between the unpooled and the pooled model."
   ]
  },
  {
   "cell_type": "markdown",
   "metadata": {
    "slideshow": {
     "slide_type": "slide"
    }
   },
   "source": [
    "# Hierarchical varying-intercept model\n",
    "\n",
    "\\begin{align}\n",
    "Y &\\sim N( \\alpha_{j[i]} + \\beta X_c,  \\sigma) && \\text{likelihood} \\\\\n",
    "\\beta & \\sim N (0,2  \\frac{s_y}{s_x} )  && \\text{prior on the slope} \\\\\n",
    "\\sigma &\\sim \\text{HalfNormal}(0,1.5 s_y) && \\text{prior on the dev std} \\\\\n",
    "\\alpha_j &\\sim N(\\mu_{\\alpha}, \\sigma_{\\alpha}) \\,\\, j=1,2..., 85&& \\text{population of intercepts} \\\\\n",
    "\\mu_{\\alpha} &\\sim N(\\bar{y},10 s_y)  && \\text{prior on the mean intercept} \\\\\n",
    "\\sigma_{\\alpha} &\\sim \\text{half-normal}(5 s_y) && \\text{prior on the std of intercepts}\\\\\n",
    "\\end{align}\n",
    "\n",
    "* Broad priors  on the parameters of the population of intercepts\n",
    "\n",
    "\n",
    "* This is  a **varying-intercept** model, since the intercept is different for each county, while the slope is unique for  all counties.\n"
   ]
  },
  {
   "cell_type": "code",
   "execution_count": 12,
   "metadata": {
    "slideshow": {
     "slide_type": "slide"
    }
   },
   "outputs": [],
   "source": [
    "with pm.Model() as hier_model:\n",
    "    \n",
    "    # Parameters of the population of intercepts, to which we assign broad priors.\n",
    "    mu_a     = pm.Normal('mu_a', mu=mu_y, sigma=10 * s_y)\n",
    "    sigma_a = pm.HalfNormal('sigma_a', 5 * s_y)\n",
    "    \n",
    "    # Each intercept is drawn from the population of intercepts\n",
    "    alpha = pm.Normal('alpha', mu=mu_a, sigma=sigma_a, shape=n_counties)\n",
    "    \n",
    "    # Common slope\n",
    "    beta = pm.Normal('beta', mu=0, sigma= 2.5 *  s_y / s_x)\n",
    "    \n",
    "    # Prior on sigma\n",
    "    sigma_y = pm.HalfCauchy('sigma_y', 1.5 * s_y)\n",
    "    \n",
    "    # Likelihood\n",
    "    y_like = pm.Normal('y_like', mu=alpha[county] + beta * floor_c, sigma=sigma_y, observed=log_radon)    "
   ]
  },
  {
   "cell_type": "code",
   "execution_count": 13,
   "metadata": {
    "slideshow": {
     "slide_type": "slide"
    }
   },
   "outputs": [
    {
     "name": "stderr",
     "output_type": "stream",
     "text": [
      "Auto-assigning NUTS sampler...\n",
      "Initializing NUTS using jitter+adapt_diag...\n",
      "Multiprocess sampling (4 chains in 4 jobs)\n",
      "NUTS: [sigma_y, beta, alpha, sigma_a, mu_a]\n"
     ]
    },
    {
     "data": {
      "text/html": [
       "\n",
       "<style>\n",
       "    /* Turns off some styling */\n",
       "    progress {\n",
       "        /* gets rid of default border in Firefox and Opera. */\n",
       "        border: none;\n",
       "        /* Needs to be in here for Safari polyfill so background images work as expected. */\n",
       "        background-size: auto;\n",
       "    }\n",
       "    .progress-bar-interrupted, .progress-bar-interrupted::-webkit-progress-bar {\n",
       "        background: #F44336;\n",
       "    }\n",
       "</style>\n"
      ],
      "text/plain": [
       "<IPython.core.display.HTML object>"
      ]
     },
     "metadata": {},
     "output_type": "display_data"
    },
    {
     "data": {
      "text/html": [
       "\n",
       "    <div>\n",
       "      <progress value='8000' class='' max='8000' style='width:300px; height:20px; vertical-align: middle;'></progress>\n",
       "      100.00% [8000/8000 00:06<00:00 Sampling 4 chains, 0 divergences]\n",
       "    </div>\n",
       "    "
      ],
      "text/plain": [
       "<IPython.core.display.HTML object>"
      ]
     },
     "metadata": {},
     "output_type": "display_data"
    },
    {
     "name": "stderr",
     "output_type": "stream",
     "text": [
      "Sampling 4 chains for 1_000 tune and 1_000 draw iterations (4_000 + 4_000 draws total) took 18 seconds.\n"
     ]
    }
   ],
   "source": [
    "with hier_model:\n",
    "    hier_trace = pm.sample(return_inferencedata=True)"
   ]
  },
  {
   "cell_type": "markdown",
   "metadata": {
    "slideshow": {
     "slide_type": "slide"
    }
   },
   "source": [
    "## Partial pooling \n",
    "\n",
    "* The estimate of the hierarchical model is a compromise (*partial pooling*) between the pooled and unpooled model.\n",
    "\n",
    "* Estimates for counties with few observations (or very spread observations) are pulled  towards the estimate of the pooled model (i.e., the state-wide average).\n",
    "\n",
    "* For counties with many observations, the estimates  is closer to that of the  unpooled model."
   ]
  },
  {
   "cell_type": "code",
   "execution_count": 14,
   "metadata": {
    "slideshow": {
     "slide_type": "slide"
    }
   },
   "outputs": [
    {
     "data": {
      "image/png": "[encoded data removed]",
      "text/plain": [
       "<Figure size 1200x600 with 8 Axes>"
      ]
     },
     "metadata": {},
     "output_type": "display_data"
    }
   ],
   "source": [
    "#the code below compare the estimates provided by the pooled, unpooled and hierarchical model\n",
    "fig, axes = plt.subplots(2, 4, figsize=(12, 6), sharey=True, sharex=True)\n",
    "axes = axes.ravel()\n",
    "\n",
    "post_hier   = az.extract_dataset(hier_trace.posterior)\n",
    "\n",
    "#slope of the hier model (posterior mean)\n",
    "beta_hier = post_hier.beta.values.mean()\n",
    "\n",
    "# intercept of the hier model: an array, one element for each county (samples of each county are averaged)\n",
    "alpha_hier = pd.Series(post_hier.alpha.values.mean(axis=1), index=counties)\n",
    "\n",
    "\n",
    "for i,c in enumerate(sample_counties):\n",
    "    \n",
    "    # Plot county data\n",
    "    y = log_radon[radon_data.county==c]\n",
    "    x = floor_c[radon_data.county==c]\n",
    "    axes[i].scatter(x + np.random.randn(len(x))*0.01, y, alpha=0.4)\n",
    "\n",
    "    \n",
    "    xvals = np.linspace(floor_c.min(), floor_c.max() )\n",
    "    # Unpooled model\n",
    "    axes[i].plot(xvals,  alpha_unpooled[county_lookup[c]] + beta_unpooled * xvals,  label=\"unpooled\" )\n",
    "    # Pooled model\n",
    "    axes[i].plot(xvals,  a_pooled + b_pooled * xvals, 'r--', label=\"pooled\")\n",
    "    # Hierarchical model\n",
    "    axes[i].plot(xvals,  alpha_hier[county_lookup[c]] + beta_hier * xvals,  label=\"hierarchical\" )\n",
    "    #axes[i].plot(xvals, mp*xvals+ beta_hier[county_lookup[c]], 'k:')\n",
    "    \n",
    "    axes[i].set_xticks([floor_c.min(), floor_c.max()])\n",
    "    axes[i].set_xticklabels(['basement', '1st floor'])\n",
    "    axes[i].set_ylim(-3 ,3)\n",
    "    axes[i].set_title(c)\n",
    "    if not i%2: axes[i].set_ylabel('log radon  (c_ed)')\n",
    "    axes[0].legend()\n",
    "\n",
    "plt.savefig('img/pooled_unpooled_hier.png') "
   ]
  },
  {
   "cell_type": "markdown",
   "metadata": {
    "slideshow": {
     "slide_type": "slide"
    }
   },
   "source": [
    "#  The hierarchical model is a sensible compromise \n",
    "\n",
    "<img src='img/pooled_unpooled_hier.png' width=900 align=\"center\" >\n",
    "\n",
    "* Close to the unpooled model on data-rich counties.\n",
    "\n",
    "* Close to the pooled model on data-poor counties."
   ]
  },
  {
   "cell_type": "markdown",
   "metadata": {
    "slideshow": {
     "slide_type": "slide"
    }
   },
   "source": [
    "# Ranking models according to WAIC\n",
    "\n",
    "* WAIC is a model selection criterion for Bayesian models.\n",
    "\n"
   ]
  },
  {
   "cell_type": "code",
   "execution_count": 15,
   "metadata": {
    "scrolled": true,
    "slideshow": {
     "slide_type": "slide"
    }
   },
   "outputs": [
    {
     "data": {
      "text/html": [
       "<div>\n",
       "<style scoped>\n",
       "    .dataframe tbody tr th:only-of-type {\n",
       "        vertical-align: middle;\n",
       "    }\n",
       "\n",
       "    .dataframe tbody tr th {\n",
       "        vertical-align: top;\n",
       "    }\n",
       "\n",
       "    .dataframe thead th {\n",
       "        text-align: right;\n",
       "    }\n",
       "</style>\n",
       "<table border=\"1\" class=\"dataframe\">\n",
       "  <thead>\n",
       "    <tr style=\"text-align: right;\">\n",
       "      <th></th>\n",
       "      <th>rank</th>\n",
       "      <th>waic</th>\n",
       "      <th>p_waic</th>\n",
       "      <th>d_waic</th>\n",
       "      <th>weight</th>\n",
       "      <th>se</th>\n",
       "      <th>dse</th>\n",
       "      <th>warning</th>\n",
       "      <th>waic_scale</th>\n",
       "    </tr>\n",
       "  </thead>\n",
       "  <tbody>\n",
       "    <tr>\n",
       "      <th>hierarchical</th>\n",
       "      <td>0</td>\n",
       "      <td>-1036.192592</td>\n",
       "      <td>48.672866</td>\n",
       "      <td>0.000000</td>\n",
       "      <td>9.297917e-01</td>\n",
       "      <td>27.907732</td>\n",
       "      <td>0.000000</td>\n",
       "      <td>True</td>\n",
       "      <td>log</td>\n",
       "    </tr>\n",
       "    <tr>\n",
       "      <th>unpooled</th>\n",
       "      <td>1</td>\n",
       "      <td>-1054.950330</td>\n",
       "      <td>79.920422</td>\n",
       "      <td>18.757738</td>\n",
       "      <td>1.210059e-15</td>\n",
       "      <td>28.370718</td>\n",
       "      <td>5.655189</td>\n",
       "      <td>True</td>\n",
       "      <td>log</td>\n",
       "    </tr>\n",
       "    <tr>\n",
       "      <th>pooled</th>\n",
       "      <td>2</td>\n",
       "      <td>-1090.062375</td>\n",
       "      <td>3.947581</td>\n",
       "      <td>53.869783</td>\n",
       "      <td>7.020827e-02</td>\n",
       "      <td>25.045747</td>\n",
       "      <td>10.690158</td>\n",
       "      <td>False</td>\n",
       "      <td>log</td>\n",
       "    </tr>\n",
       "  </tbody>\n",
       "</table>\n",
       "</div>"
      ],
      "text/plain": [
       "              rank         waic     p_waic     d_waic        weight  \\\n",
       "hierarchical     0 -1036.192592  48.672866   0.000000  9.297917e-01   \n",
       "unpooled         1 -1054.950330  79.920422  18.757738  1.210059e-15   \n",
       "pooled           2 -1090.062375   3.947581  53.869783  7.020827e-02   \n",
       "\n",
       "                     se        dse  warning waic_scale  \n",
       "hierarchical  27.907732   0.000000     True        log  \n",
       "unpooled      28.370718   5.655189     True        log  \n",
       "pooled        25.045747  10.690158    False        log  "
      ]
     },
     "execution_count": 15,
     "metadata": {},
     "output_type": "execute_result"
    }
   ],
   "source": [
    "# the hierarchical model is ranked first\n",
    "az.waic (pooled_trace)\n",
    "az.compare({'pooled':pooled_trace, 'unpooled': unpooled_trace,  'hierarchical':hier_trace}, ic='waic')"
   ]
  },
  {
   "cell_type": "markdown",
   "metadata": {
    "slideshow": {
     "slide_type": "slide"
    }
   },
   "source": [
    "# Prediction\n",
    "\n",
    "Gelman (2006) used cross-validation tests to check the prediction error of the unpooled, pooled, and partially-pooled models\n",
    "\n",
    "**root mean squared cross-validation prediction errors**:\n",
    "\n",
    "* unpooled = 0.86\n",
    "* pooled = 0.84\n",
    "* multilevel = 0.79\n",
    "\n",
    "There are two types of prediction that can be made in a multilevel model:\n",
    "\n",
    "1. a new individual within an existing group\n",
    "2. a new individual within a new group\n",
    "\n"
   ]
  },
  {
   "cell_type": "markdown",
   "metadata": {
    "slideshow": {
     "slide_type": "slide"
    }
   },
   "source": [
    "# Your turn: compute predictive distributions\n",
    "\n",
    "\n",
    "*  Compare the predictive distribution  for a floor measurement  for \"lac qui parle\", according to the unpooled and to  the varying-intercept hierarchical model.\n",
    "\n",
    "\n",
    " * Compute the  predictive distribution for a novel county using the  varying-intercept hierarchical model.\n",
    "\n",
    "\n",
    "\n",
    "* Hint: the centered value of floor 0 is 0.16648531 (check np.unique(floor_c))\n",
    "\n",
    "\n",
    "    "
   ]
  },
  {
   "cell_type": "markdown",
   "metadata": {
    "slideshow": {
     "slide_type": "slide"
    }
   },
   "source": [
    "# Your turn: slope-varying, intercept-varying model\n",
    "\n",
    "* Implement a model which treats  the slope and the intercept in a hierarchical way. \n",
    "\n",
    "\n",
    "* Compute the predictive distribution for \"lac qui parle\" and for a novel county.\n",
    "\n",
    "\n",
    "* Compare the model against the previous one; which one would you choose?\n",
    "    \n",
    "    "
   ]
  },
  {
   "cell_type": "markdown",
   "metadata": {
    "slideshow": {
     "slide_type": "slide"
    }
   },
   "source": [
    "# Solutions"
   ]
  },
  {
   "cell_type": "code",
   "execution_count": 16,
   "metadata": {
    "slideshow": {
     "slide_type": "slide"
    }
   },
   "outputs": [],
   "source": [
    "#predictive distribution for a new measure in LAC QUI PARLE, according to the unpooled and the varying-intercept model\n",
    "# Part 1\n",
    "\n",
    "floor_0 = 0.16648531\n",
    "\n",
    "#this value is obtained by \n",
    "#np.unique(floor_c)\n",
    "#array([-0.16648531,  0.83351469])\n",
    "\n",
    "\n",
    "#get the trace samples\n",
    "post_hier    = az.extract_dataset(hier_trace.posterior)\n",
    "post_unp    = az.extract_dataset(unpooled_trace.posterior)\n",
    "\n",
    "#samples of the slope\n",
    "beta_hier =  post_hier.beta.values\n",
    "beta_unp =  post_unp.beta.values\n",
    "\n",
    "#samples of the intercept for LAC \n",
    "alpha_lac_hier = post_hier.alpha.values[county_lookup['LAC QUI PARLE']] \n",
    "alpha_lac_unp = post_unp.alpha.values[county_lookup['LAC QUI PARLE']] \n",
    "\n",
    "#samples of sd\n",
    "sigma_y_hier =  post_hier.sigma_y.values\n",
    "sigma_y_unp =  post_unp.sigma_y.values"
   ]
  },
  {
   "cell_type": "code",
   "execution_count": 17,
   "metadata": {
    "slideshow": {
     "slide_type": "slide"
    }
   },
   "outputs": [
    {
     "data": {
      "text/html": [
       "<div>\n",
       "<style scoped>\n",
       "    .dataframe tbody tr th:only-of-type {\n",
       "        vertical-align: middle;\n",
       "    }\n",
       "\n",
       "    .dataframe tbody tr th {\n",
       "        vertical-align: top;\n",
       "    }\n",
       "\n",
       "    .dataframe thead th {\n",
       "        text-align: right;\n",
       "    }\n",
       "</style>\n",
       "<table border=\"1\" class=\"dataframe\">\n",
       "  <thead>\n",
       "    <tr style=\"text-align: right;\">\n",
       "      <th></th>\n",
       "      <th>hier</th>\n",
       "      <th>unpooled</th>\n",
       "    </tr>\n",
       "  </thead>\n",
       "  <tbody>\n",
       "    <tr>\n",
       "      <th>count</th>\n",
       "      <td>4000.000000</td>\n",
       "      <td>4000.000000</td>\n",
       "    </tr>\n",
       "    <tr>\n",
       "      <th>mean</th>\n",
       "      <td>1.658675</td>\n",
       "      <td>2.567901</td>\n",
       "    </tr>\n",
       "    <tr>\n",
       "      <th>std</th>\n",
       "      <td>0.775077</td>\n",
       "      <td>0.898137</td>\n",
       "    </tr>\n",
       "    <tr>\n",
       "      <th>min</th>\n",
       "      <td>-1.178113</td>\n",
       "      <td>-0.320255</td>\n",
       "    </tr>\n",
       "    <tr>\n",
       "      <th>25%</th>\n",
       "      <td>1.149703</td>\n",
       "      <td>1.967836</td>\n",
       "    </tr>\n",
       "    <tr>\n",
       "      <th>50%</th>\n",
       "      <td>1.669439</td>\n",
       "      <td>2.584774</td>\n",
       "    </tr>\n",
       "    <tr>\n",
       "      <th>75%</th>\n",
       "      <td>2.175448</td>\n",
       "      <td>3.176421</td>\n",
       "    </tr>\n",
       "    <tr>\n",
       "      <th>max</th>\n",
       "      <td>4.344777</td>\n",
       "      <td>5.426219</td>\n",
       "    </tr>\n",
       "  </tbody>\n",
       "</table>\n",
       "</div>"
      ],
      "text/plain": [
       "              hier     unpooled\n",
       "count  4000.000000  4000.000000\n",
       "mean      1.658675     2.567901\n",
       "std       0.775077     0.898137\n",
       "min      -1.178113    -0.320255\n",
       "25%       1.149703     1.967836\n",
       "50%       1.669439     2.584774\n",
       "75%       2.175448     3.176421\n",
       "max       4.344777     5.426219"
      ]
     },
     "execution_count": 17,
     "metadata": {},
     "output_type": "execute_result"
    }
   ],
   "source": [
    "#Part 2 - computing the predictive based on the samples from the trace\n",
    "y_new_hier = np.zeros(len(beta_hier))\n",
    "y_new_unp = np.zeros(len(beta_unp))\n",
    "\n",
    "#this could be easily vectorized. I leave the for loop mainly for clarity\n",
    "for i, current_mu in enumerate(beta_hier):\n",
    "        #to have a more precise quantification, we could generate more than one values   with the i-th sample of parameters.\n",
    "        # that is how pymc3 implements the predictive checks.\n",
    "        y_new_hier[i] = np.random.normal (loc = alpha_lac_hier[i] + beta_hier[i] *  floor_0 , scale = sigma_y_hier[i])\n",
    "        y_new_unp[i] = np.random.normal (loc = alpha_lac_unp[i] + beta_unp[i] *  floor_0 , scale = sigma_y_unp[i])\n",
    "\n",
    "#the predictive distribution of the unpooled is much larger median and more uncertaint (larger std)        \n",
    "a=  pd.DataFrame(y_new_hier).describe()\n",
    "b = pd.DataFrame(y_new_unp).describe()\n",
    "c =  pd.concat ([a,b], axis=1)\n",
    "c.columns = ['hier', 'unpooled']\n",
    "c"
   ]
  },
  {
   "cell_type": "code",
   "execution_count": 23,
   "metadata": {
    "slideshow": {
     "slide_type": "slide"
    }
   },
   "outputs": [],
   "source": [
    "# predictive distribution for a measure taken in a new county.\n",
    "# This is not possible with the unpooled model.\n",
    "# Part 1 \n",
    "\n",
    "post_hier    = az.extract_dataset(hier_trace.posterior)\n",
    "\n",
    "# First, we create plausible value of intercepts by sampling from the population of intercepts \n",
    "mu_a = post_hier.mu_a.values\n",
    "sigma_a = post_hier.sigma_a.values\n",
    "alpha_new = np.zeros(len(mu_a))\n",
    "\n",
    "#for i, current_mu in enumerate(mu_a):\n",
    " #   alpha_new[i] = np.random.normal (loc = mu_a[i], scale = sigma_a[i])\n",
    "\n",
    "#vectorized implementation is more elegant, but equivalent to the loop above\n",
    "alpha_new = np.random.normal (loc = mu_a, scale = sigma_a)\n",
    "\n",
    " #samples of the slope and of the sigma   \n",
    "beta_hier =  post_hier.beta.values\n",
    "sigma_y =  post_hier.sigma_y.values"
   ]
  },
  {
   "cell_type": "code",
   "execution_count": 24,
   "metadata": {
    "slideshow": {
     "slide_type": "slide"
    }
   },
   "outputs": [
    {
     "data": {
      "text/html": [
       "<div>\n",
       "<style scoped>\n",
       "    .dataframe tbody tr th:only-of-type {\n",
       "        vertical-align: middle;\n",
       "    }\n",
       "\n",
       "    .dataframe tbody tr th {\n",
       "        vertical-align: top;\n",
       "    }\n",
       "\n",
       "    .dataframe thead th {\n",
       "        text-align: right;\n",
       "    }\n",
       "</style>\n",
       "<table border=\"1\" class=\"dataframe\">\n",
       "  <thead>\n",
       "    <tr style=\"text-align: right;\">\n",
       "      <th></th>\n",
       "      <th>0</th>\n",
       "    </tr>\n",
       "  </thead>\n",
       "  <tbody>\n",
       "    <tr>\n",
       "      <th>count</th>\n",
       "      <td>4000.000000</td>\n",
       "    </tr>\n",
       "    <tr>\n",
       "      <th>mean</th>\n",
       "      <td>1.285239</td>\n",
       "    </tr>\n",
       "    <tr>\n",
       "      <th>std</th>\n",
       "      <td>0.800339</td>\n",
       "    </tr>\n",
       "    <tr>\n",
       "      <th>min</th>\n",
       "      <td>-1.844501</td>\n",
       "    </tr>\n",
       "    <tr>\n",
       "      <th>25%</th>\n",
       "      <td>0.760300</td>\n",
       "    </tr>\n",
       "    <tr>\n",
       "      <th>50%</th>\n",
       "      <td>1.275225</td>\n",
       "    </tr>\n",
       "    <tr>\n",
       "      <th>75%</th>\n",
       "      <td>1.816677</td>\n",
       "    </tr>\n",
       "    <tr>\n",
       "      <th>max</th>\n",
       "      <td>4.360914</td>\n",
       "    </tr>\n",
       "  </tbody>\n",
       "</table>\n",
       "</div>"
      ],
      "text/plain": [
       "                 0\n",
       "count  4000.000000\n",
       "mean      1.285239\n",
       "std       0.800339\n",
       "min      -1.844501\n",
       "25%       0.760300\n",
       "50%       1.275225\n",
       "75%       1.816677\n",
       "max       4.360914"
      ]
     },
     "execution_count": 24,
     "metadata": {},
     "output_type": "execute_result"
    }
   ],
   "source": [
    "# predictive distribution for a measure taken in a new county.\n",
    "# Part 2 \n",
    "        \n",
    "#predictive distribution for a new measure in the new county\n",
    "y_new = np.zeros(len(alpha_new))\n",
    "\n",
    "for i, current_mu in enumerate(alpha_new):\n",
    "        y_new[i] = np.random.normal (loc = alpha_new[i] + beta_hier[i] *  floor_0 , scale = sigma_y[i])\n",
    "\n",
    "pd.DataFrame(y_new).describe()"
   ]
  },
  {
   "cell_type": "markdown",
   "metadata": {
    "slideshow": {
     "slide_type": "slide"
    }
   },
   "source": [
    "# Varying-slope and varying-intercept model\n",
    "\n",
    "\\begin{align}\n",
    "Y &\\sim N( \\alpha_{j[i]} + \\beta X_c,  \\sigma) && \\text{likelihood} \\\\\n",
    "\\\\\n",
    "\\beta_j &\\sim N(\\mu_{\\beta}, \\sigma_{\\beta}) \\,\\, j=1,2..., 85&& \\text{population of slopes} \\\\\n",
    "\\mu_{\\beta} &\\sim N(0,10 s_y)  && \\text{prior on the mean slope} \\\\\n",
    "\\sigma_{\\beta} &\\sim \\text{half-normal}(5 s_y) && \\text{prior on the std of slopes}\\\\\n",
    "\\\\\n",
    "\\alpha_j &\\sim N(\\mu_{\\alpha}, \\sigma_{\\alpha}) \\,\\, j=1,2..., 85&& \\text{population of intercepts} \\\\\n",
    "\\mu_{\\alpha} &\\sim N(\\bar{y},10 s_y)  && \\text{prior on the mean intercept} \\\\\n",
    "\\sigma_{\\alpha} &\\sim \\text{half-normal}(5 s_y) && \\text{prior on the std of intercepts}\\\\\n",
    "\\\\\n",
    "\\sigma &\\sim \\text{HalfNormal}(0,1.5 s_y) && \\text{prior on the dev std} \\\\\n",
    "\\end{align}"
   ]
  },
  {
   "cell_type": "code",
   "execution_count": 19,
   "metadata": {
    "slideshow": {
     "slide_type": "slide"
    }
   },
   "outputs": [],
   "source": [
    "with pm.Model() as varying_slope_model:\n",
    "    \n",
    "    # Parameters of the population of intercepts, to which we assign broad priors.\n",
    "    mu_a     = pm.Normal('mu_a', mu=mu_y, sigma=10 * s_y)\n",
    "    sigma_a = pm.HalfNormal('sigma_a', 5 * s_y)\n",
    "    \n",
    "    # Each intercept is drawn from the population of intercepts\n",
    "    alpha = pm.Normal('alpha', mu=mu_a, sigma=sigma_a, shape=n_counties)\n",
    "    \n",
    "    # Population of slopes\n",
    "    mu_b      = pm.Normal('mu_b', mu=0, sigma=10 * s_y)\n",
    "    sigma_b = pm.HalfNormal('sigma_b', 5 * s_y)\n",
    "    beta         = pm.Normal('beta', mu=mu_b, sigma= sigma_b)\n",
    "    \n",
    "    # Prior on sigma\n",
    "    sigma_y = pm.HalfCauchy('sigma_y', 1.5 * s_y)\n",
    "    \n",
    "    # Likelihood\n",
    "    y_like = pm.Normal('y_like', mu=alpha[county] + beta * floor_c, sigma=sigma_y, observed=log_radon)    "
   ]
  },
  {
   "cell_type": "code",
   "execution_count": 20,
   "metadata": {
    "slideshow": {
     "slide_type": "slide"
    }
   },
   "outputs": [
    {
     "name": "stderr",
     "output_type": "stream",
     "text": [
      "Auto-assigning NUTS sampler...\n",
      "Initializing NUTS using jitter+adapt_diag...\n",
      "Multiprocess sampling (4 chains in 4 jobs)\n",
      "NUTS: [sigma_y, beta, sigma_b, mu_b, alpha, sigma_a, mu_a]\n"
     ]
    },
    {
     "data": {
      "text/html": [
       "\n",
       "<style>\n",
       "    /* Turns off some styling */\n",
       "    progress {\n",
       "        /* gets rid of default border in Firefox and Opera. */\n",
       "        border: none;\n",
       "        /* Needs to be in here for Safari polyfill so background images work as expected. */\n",
       "        background-size: auto;\n",
       "    }\n",
       "    .progress-bar-interrupted, .progress-bar-interrupted::-webkit-progress-bar {\n",
       "        background: #F44336;\n",
       "    }\n",
       "</style>\n"
      ],
      "text/plain": [
       "<IPython.core.display.HTML object>"
      ]
     },
     "metadata": {},
     "output_type": "display_data"
    },
    {
     "data": {
      "text/html": [
       "\n",
       "    <div>\n",
       "      <progress value='8000' class='' max='8000' style='width:300px; height:20px; vertical-align: middle;'></progress>\n",
       "      100.00% [8000/8000 00:07<00:00 Sampling 4 chains, 772 divergences]\n",
       "    </div>\n",
       "    "
      ],
      "text/plain": [
       "<IPython.core.display.HTML object>"
      ]
     },
     "metadata": {},
     "output_type": "display_data"
    },
    {
     "name": "stderr",
     "output_type": "stream",
     "text": [
      "Sampling 4 chains for 1_000 tune and 1_000 draw iterations (4_000 + 4_000 draws total) took 20 seconds.\n",
      "There were 355 divergences after tuning. Increase `target_accept` or reparameterize.\n",
      "The acceptance probability does not match the target. It is 0.6125272727551778, but should be close to 0.8. Try to increase the number of tuning steps.\n",
      "There were 131 divergences after tuning. Increase `target_accept` or reparameterize.\n",
      "There were 189 divergences after tuning. Increase `target_accept` or reparameterize.\n",
      "There were 97 divergences after tuning. Increase `target_accept` or reparameterize.\n",
      "The estimated number of effective samples is smaller than 200 for some parameters.\n"
     ]
    }
   ],
   "source": [
    "with varying_slope_model:\n",
    "    varying_slope_trace = pm.sample(return_inferencedata=True)"
   ]
  },
  {
   "cell_type": "code",
   "execution_count": 21,
   "metadata": {
    "scrolled": true,
    "slideshow": {
     "slide_type": "slide"
    }
   },
   "outputs": [
    {
     "data": {
      "text/html": [
       "<div>\n",
       "<style scoped>\n",
       "    .dataframe tbody tr th:only-of-type {\n",
       "        vertical-align: middle;\n",
       "    }\n",
       "\n",
       "    .dataframe tbody tr th {\n",
       "        vertical-align: top;\n",
       "    }\n",
       "\n",
       "    .dataframe thead th {\n",
       "        text-align: right;\n",
       "    }\n",
       "</style>\n",
       "<table border=\"1\" class=\"dataframe\">\n",
       "  <thead>\n",
       "    <tr style=\"text-align: right;\">\n",
       "      <th></th>\n",
       "      <th>rank</th>\n",
       "      <th>waic</th>\n",
       "      <th>p_waic</th>\n",
       "      <th>d_waic</th>\n",
       "      <th>weight</th>\n",
       "      <th>se</th>\n",
       "      <th>dse</th>\n",
       "      <th>warning</th>\n",
       "      <th>waic_scale</th>\n",
       "    </tr>\n",
       "  </thead>\n",
       "  <tbody>\n",
       "    <tr>\n",
       "      <th>hierarchical</th>\n",
       "      <td>0</td>\n",
       "      <td>-1036.192592</td>\n",
       "      <td>48.672866</td>\n",
       "      <td>0.000000</td>\n",
       "      <td>0.929748</td>\n",
       "      <td>27.907732</td>\n",
       "      <td>0.000000</td>\n",
       "      <td>True</td>\n",
       "      <td>log</td>\n",
       "    </tr>\n",
       "    <tr>\n",
       "      <th>varying_slope</th>\n",
       "      <td>1</td>\n",
       "      <td>-1037.586556</td>\n",
       "      <td>50.255175</td>\n",
       "      <td>1.393965</td>\n",
       "      <td>0.000000</td>\n",
       "      <td>28.108220</td>\n",
       "      <td>0.506762</td>\n",
       "      <td>True</td>\n",
       "      <td>log</td>\n",
       "    </tr>\n",
       "    <tr>\n",
       "      <th>unpooled</th>\n",
       "      <td>2</td>\n",
       "      <td>-1054.950330</td>\n",
       "      <td>79.920422</td>\n",
       "      <td>18.757738</td>\n",
       "      <td>0.000000</td>\n",
       "      <td>28.370718</td>\n",
       "      <td>5.655189</td>\n",
       "      <td>True</td>\n",
       "      <td>log</td>\n",
       "    </tr>\n",
       "    <tr>\n",
       "      <th>pooled</th>\n",
       "      <td>3</td>\n",
       "      <td>-1090.062375</td>\n",
       "      <td>3.947581</td>\n",
       "      <td>53.869783</td>\n",
       "      <td>0.070252</td>\n",
       "      <td>25.045747</td>\n",
       "      <td>10.690158</td>\n",
       "      <td>False</td>\n",
       "      <td>log</td>\n",
       "    </tr>\n",
       "  </tbody>\n",
       "</table>\n",
       "</div>"
      ],
      "text/plain": [
       "               rank         waic     p_waic     d_waic    weight         se  \\\n",
       "hierarchical      0 -1036.192592  48.672866   0.000000  0.929748  27.907732   \n",
       "varying_slope     1 -1037.586556  50.255175   1.393965  0.000000  28.108220   \n",
       "unpooled          2 -1054.950330  79.920422  18.757738  0.000000  28.370718   \n",
       "pooled            3 -1090.062375   3.947581  53.869783  0.070252  25.045747   \n",
       "\n",
       "                     dse  warning waic_scale  \n",
       "hierarchical    0.000000     True        log  \n",
       "varying_slope   0.506762     True        log  \n",
       "unpooled        5.655189     True        log  \n",
       "pooled         10.690158    False        log  "
      ]
     },
     "execution_count": 21,
     "metadata": {},
     "output_type": "execute_result"
    }
   ],
   "source": [
    "# the varying slope is ranked second\n",
    "az.waic (pooled_trace)\n",
    "az.compare({'pooled':pooled_trace, 'unpooled': unpooled_trace,  'hierarchical':hier_trace, 'varying_slope':varying_slope_trace}, ic='waic')"
   ]
  },
  {
   "cell_type": "code",
   "execution_count": 22,
   "metadata": {
    "slideshow": {
     "slide_type": "slide"
    }
   },
   "outputs": [
    {
     "data": {
      "text/html": [
       "<div>\n",
       "<style scoped>\n",
       "    .dataframe tbody tr th:only-of-type {\n",
       "        vertical-align: middle;\n",
       "    }\n",
       "\n",
       "    .dataframe tbody tr th {\n",
       "        vertical-align: top;\n",
       "    }\n",
       "\n",
       "    .dataframe thead th {\n",
       "        text-align: right;\n",
       "    }\n",
       "</style>\n",
       "<table border=\"1\" class=\"dataframe\">\n",
       "  <thead>\n",
       "    <tr style=\"text-align: right;\">\n",
       "      <th></th>\n",
       "      <th>0</th>\n",
       "    </tr>\n",
       "  </thead>\n",
       "  <tbody>\n",
       "    <tr>\n",
       "      <th>count</th>\n",
       "      <td>4000.000000</td>\n",
       "    </tr>\n",
       "    <tr>\n",
       "      <th>mean</th>\n",
       "      <td>1.688842</td>\n",
       "    </tr>\n",
       "    <tr>\n",
       "      <th>std</th>\n",
       "      <td>0.777811</td>\n",
       "    </tr>\n",
       "    <tr>\n",
       "      <th>min</th>\n",
       "      <td>-1.329433</td>\n",
       "    </tr>\n",
       "    <tr>\n",
       "      <th>25%</th>\n",
       "      <td>1.174702</td>\n",
       "    </tr>\n",
       "    <tr>\n",
       "      <th>50%</th>\n",
       "      <td>1.693885</td>\n",
       "    </tr>\n",
       "    <tr>\n",
       "      <th>75%</th>\n",
       "      <td>2.208589</td>\n",
       "    </tr>\n",
       "    <tr>\n",
       "      <th>max</th>\n",
       "      <td>4.343311</td>\n",
       "    </tr>\n",
       "  </tbody>\n",
       "</table>\n",
       "</div>"
      ],
      "text/plain": [
       "                 0\n",
       "count  4000.000000\n",
       "mean      1.688842\n",
       "std       0.777811\n",
       "min      -1.329433\n",
       "25%       1.174702\n",
       "50%       1.693885\n",
       "75%       2.208589\n",
       "max       4.343311"
      ]
     },
     "execution_count": 22,
     "metadata": {},
     "output_type": "execute_result"
    }
   ],
   "source": [
    "# predictive distribution for lac qui parle\n",
    "#get the trace samples\n",
    "post_hier_vt    = az.extract_dataset(varying_slope_trace.posterior)\n",
    "\n",
    "#samples of the intercept for LAC \n",
    "alpha_lac_vt = post_hier_vt.alpha.values[county_lookup['LAC QUI PARLE']] \n",
    "\n",
    "\n",
    "#samples of the slope for LAC\n",
    "beta_lac_vt = post_hier_vt.beta.values[county_lookup['LAC QUI PARLE']] \n",
    "\n",
    "\n",
    "#samples of sd\n",
    "sigma_y_vt =  post_hier_vt.sigma_y.values\n",
    "\n",
    "y_new_vt = np.zeros(len(alpha_lac_vt))\n",
    "y_new_vt = np.random.normal (loc = alpha_lac_vt + beta_lac_vt *  floor_0 , scale = sigma_y_vt)\n",
    "\n",
    "pd.DataFrame(y_new_vt).describe()"
   ]
  }
 ],
 "metadata": {
  "celltoolbar": "Slideshow",
  "kernelspec": {
   "display_name": "Python 3 (ipykernel)",
   "language": "python",
   "name": "python3"
  },
  "language_info": {
   "codemirror_mode": {
    "name": "ipython",
    "version": 3
   },
   "file_extension": ".py",
   "mimetype": "text/x-python",
   "name": "python",
   "nbconvert_exporter": "python",
   "pygments_lexer": "ipython3",
   "version": "3.8.15"
  },
  "latex_envs": {
   "bibliofile": "biblio.bib",
   "cite_by": "apalike",
   "current_citInitial": 1,
   "eqLabelWithNumbers": true,
   "eqNumInitial": 0
  }
 },
 "nbformat": 4,
 "nbformat_minor": 4
}
